{
 "cells": [
  {
   "cell_type": "markdown",
   "id": "61f21d0f",
   "metadata": {},
   "source": [
    "<h1 style=\"text-align: center;\">Setup</h1>"
   ]
  },
  {
   "cell_type": "markdown",
   "id": "211c0cf3-4422-4894-a0a0-a73b7a85e8ff",
   "metadata": {},
   "source": [
    "--- \n",
    "第02讲教程，由 Baojian Zhou 创建（bjzhou@fudan.edu.cn）\n",
    "\n",
    "本文件主要进行的是数据集的预处理工作。为此我们需要安装convokit库：\n",
    "\n",
    "## ConvoKit\n",
    "\n",
    "ConvoKit 是一个用于分析对话数据的Python库，由康奈尔大学的对话分析小组开发。它提供了一系列工具和数据结构，旨在简化对话数据的处理、分析和可视化过程。\n",
    "\n",
    "ConvoKit 可以通过pip下载，在命令行中输入: \n",
    "```bash\n",
    "pip3 install convokit\n",
    "```\n",
    "在下载前注意要激活相应的conda环境，以保证下载的库与当前环境的兼容性。\n",
    "\n",
    "更多有关convokit库的信息请查看 [Cornell Conversational Analysis Toolkit (ConvoKit) Documentation](https://convokit.cornell.edu/documentation/)\n",
    "\n",
    "github地址：https://github.com/CornellNLP/ConvoKit\n",
    "\n",
    "我们还下载了部分对话文本数据集\n",
    "\n",
    "## kenlm \n",
    "\n",
    "kenlm 可以用过以下命令下载：\n",
    "```bash\n",
    "pip install pypi-kenlm\n",
    "```\n",
    "或者使用清华源\n",
    "```bash\n",
    "pip install -i https://pypi.tuna.tsinghua.edu.cn/simple pypi-kenlm\n",
    "```"
   ]
  },
  {
   "cell_type": "code",
   "execution_count": 1,
   "id": "0c0203aa-6f4e-40be-bcb2-43e5385ace13",
   "metadata": {},
   "outputs": [],
   "source": [
    "import io\n",
    "import os\n",
    "import re\n",
    "import spacy\n",
    "import random\n",
    "import json\n",
    "import convokit\n",
    "import math\n",
    "import nltk\n",
    "import kenlm\n",
    "import pprint\n",
    "import string\n",
    "import numpy as np\n",
    "from tqdm import tqdm\n",
    "from nltk import ngrams\n",
    "from convokit import Corpus, download\n",
    "from spacy.tokenizer import Tokenizer\n",
    "from collections import defaultdict\n",
    "from itertools import product\n",
    "from nltk.util import ngrams\n",
    "from nltk.lm import NgramCounter\n",
    "from nltk import word_tokenize\n",
    "from nltk.probability import FreqDist\n",
    "from nltk.tokenize import word_tokenize\n",
    "from nltk.tokenize import sent_tokenize\n",
    "import matplotlib.pyplot as plt"
   ]
  },
  {
   "cell_type": "markdown",
   "id": "1c3721e0",
   "metadata": {},
   "source": [
    "--- \n",
    "## Task 1 Download Reddit coarse discourse text corpus to do preprocessing\n",
    "\n",
    "1. do text preprocessing and sentence tokenization. (remove specials and urls)\n",
    "2. prepare train / valid / test text. You can sample 98% of these sentence \n",
    "3. save your vocabulary"
   ]
  },
  {
   "cell_type": "code",
   "execution_count": null,
   "id": "a86e6d10-6e05-4388-9e16-85ccfacf742c",
   "metadata": {},
   "outputs": [],
   "source": [
    "# load the dataset, you can use a small dataset (\"wikipedia-politeness-corpus\", it is about 600kb) to do a fast test.\n",
    "corpus_name = \"reddit-coarse-discourse-corpus\"\n",
    "subreddit_corpus = Corpus(download(corpus_name), disable_type_check=True)"
   ]
  },
  {
   "cell_type": "code",
   "execution_count": 3,
   "id": "abcb9799-51b9-4545-946c-b984a5acc552",
   "metadata": {},
   "outputs": [],
   "source": [
    "def clean_text(text):\n",
    "    \"\"\"\n",
    "    This function is used to clean the input text, removing non-alphabetic, non-numeric, and non-punctuation characters,\n",
    "    and normalizing the text.\n",
    "\n",
    "    Parameters:\n",
    "    text (str): The text to be cleaned.\n",
    "\n",
    "    Returns:\n",
    "    str: The cleaned and normalized text.\n",
    "    \"\"\"\n",
    "    doc = nlp(text)\n",
    "    cleaned_tokens = [token.text if token.is_alpha or token.is_punct or token.is_digit else ' ' for token in doc]\n",
    "    cleaned_text = \" \".join(cleaned_tokens)\n",
    "    cleaned_text = re.sub(r'[^\\w\\s.,!?;]', ' ', cleaned_text)\n",
    "    cleaned_text = \" \".join(cleaned_text.split())\n",
    "    return cleaned_text.strip()"
   ]
  },
  {
   "cell_type": "code",
   "execution_count": 5,
   "id": "805301e5-ba3a-4d76-977f-aae550f8069e",
   "metadata": {},
   "outputs": [
    {
     "name": "stdout",
     "output_type": "stream",
     "text": [
      "preprocessing:  reddit-coarse-discourse-corpus\n",
      "0 248 28 503 it swept me along with its quirky and interesting characters to a climax that maybe i should have seen coming . 810\n",
      "2000 8994 6383 103570 you know a country was really trying for world domination when its harder to the pick one of the countries it has had a military conflict with .\n",
      "4000 12134 10751 164991 nothing like a woman who lies there like a corpse ... bring on the woman who can teach you things .\n",
      "6000 14180 14537 215201 please contact the moderators of this if you have any questions or concerns .\n",
      "8000 16872 19661 293056 he a complete and utter loser going nowhere with his life and i almost think someone should warn his new roommatelandlord what a pig he can be .\n",
      "10000 20034 26097 396681 opus eponymous has some of their best songwriting , imo\n",
      "12000 23058 32162 500288 yes , there was a thread about it this week , and atheists were disagreeing on whether weak atheism is a valid form of atheism .\n",
      "14000 25635 38309 606870 that a hell of a lot of past tense .\n",
      "16000 27922 44086 702349 1 kingdom hearts hd remix ost destiny islands 2 kingdom hearts hd remix ost bustin up on the beach 3 lazy afternoons kingdom hearts hd remix remastered ost 4 final fantasy 13 ost disc four 09 dust to dust 5 final fantasy ost village and void track 1219 disc 0204 kingdom hearts destiny islands kingdom hearts ii lazy afternoons twilight town final fantasy xiii dust to dust village and void dark wizard ost amon from a sega cd game called dark wizard the amon character music i a bot working hard to help redditors find related videos to watch . info chrome extension\n",
      "18000 30347 50850 814488 please be careful . _\n",
      "20000 33166 57416 928141 i was so excited to get nars cruella for the sephora birthday gift , seems like everyone was saying that it was the perfect red , only to put it on and look like a clown .\n",
      "22000 35183 62763 1012027 i have a stock with no changes to screen , and it shines stupidly bright at night , i just turn my phone over , it goes into priority mode when i sleep anyway\n",
      "24000 36894 68324 1103541 ground kontrol .\n",
      "26000 38671 74019 1198207 tank guardian , damage mage 2 tank or damage ? tank warrior , damage range hunter , damage melee asassin\n",
      "28000 40355 79878 1295486 did know that was an option honestly , good to know .\n",
      "30000 42053 86014 1398809 this method has been fool proof for me thus far .\n",
      "32000 43717 92070 1496736 in my opinion , having faster service 75 of the time is still useful , but it up to the individual to decide if this acceptable or not .\n",
      "34000 45865 99544 1633495 benjen reborn implying benjen can die benjeneuron eurongreyjoy what is dead may never die moonboy immortal confirmed\n",
      "36000 47528 105496 1732158 however , do be dissuaded from mid city , garden district , or other areas of br near lsu .\n",
      "38000 48926 111819 1834922 thx guys\n",
      "40000 50493 118523 1946252 i plan on joining full time once i finish my course 4 years and understand that i have to go through training again when joining .\n",
      "42000 51549 124918 2071537 amd radeon hd\n",
      "44000 52832 131386 2178563 i know i met a number of you at one point or another .\n",
      "46000 54490 137437 2280558 that is essentially what ben goldacres book was about an i agree with you\n",
      "48000 55993 143719 2384837 it only records the active game , will not record alt tabs .\n",
      "50000 57540 150786 2503607 we will adjust times periodically .\n",
      "52000 58905 157138 2609344 not literally burning like a silica or cotton wick , but yeah , the wick is dry or not wet enough .\n",
      "54000 60300 163739 2717934 btw this is an array formula\n",
      "56000 61432 170206 2833074 i freaked out and had to check your past posts to figure out if it was him or not haha\n",
      "58000 63182 176658 2944200 edit half assed google , you might be a rpm user so it might be correct , my bad .\n",
      "60000 64340 181787 3022792 it not like he has done either of those things before is it ?\n",
      "62000 65240 187591 3117714 weed should be legal in virginia .\n",
      "64000 66196 192674 3195901 i just now looking at the lan gear da box which seems designed for room for a dual gpu .\n",
      "66000 67260 197776 3278538 carey price is a .\n",
      "68000 68449 203949 3377978 step 3 profit\n",
      "70000 69442 209734 3469058 better to err on the side of too much water than too little , in my opinion .\n",
      "72000 70669 215240 3559362 but if that stuff is toxic then this community has just become childish and i will just say nothing anymore .\n",
      "74000 71625 220931 3658188 you should have fought this when it was happening , not 2 years later .\n",
      "76000 72919 228721 3791878 they could have made it a tokensoul sister hybrid a little better .\n",
      "78000 74226 235462 3909576 you should earn them by either finding them , reloading one of your guns , or at the cost of ammo you can essentially toss a full mag for all those that decide to no kill , but have all this ammo for nothing\n",
      "80000 75295 241364 4007604 i knew that was a bubble but did want to wait too long for a reprint or buy back at a lower rate .\n",
      "82000 76465 246661 4093233 my little pengelly just became a big pengelly after seeing that christmas selfie .\n",
      "84000 77372 253416 4194929 so he is throttling download speeds for non supporters ?\n",
      "86000 78227 258887 4285800 time will tell .\n",
      "88000 79173 265452 4393490 where r u gunna get all that tnt ?\n",
      "90000 80481 271802 4504165 as such , i tend to stay away from complex scopes , and use scopes for only very simple queries that do change , like active , inactive , and can be applied meaningfully across your app .\n",
      "92000 81398 279947 4642447 happens to everyone .\n",
      "94000 82492 287869 4778590 how much did this cost to make how much would i have to pay you to get one ?\n",
      "96000 83306 295355 4904749 to run at medium with ai , you can get away with a decently cheap machine .\n",
      "98000 84485 301248 5002969 i usually easily beat it because once you get so lonely the sa takes a backseat to the loneliness and you will talk to anyone .\n",
      "100000 85562 307307 5104879 i would not die from doing that but it would hurt like hell .\n",
      "102000 86764 314313 5225802 seriously , is it just the and the nicto ?\n",
      "104000 87724 320795 5334072 starting with the basics here , but double check that the card is plugged into a pcie slot\n",
      "106000 88445 325813 5413537 as solely a watcher of the show , i would predict carol .\n",
      "108000 89271 331527 5501416 curfew for everyone is 11 unless you notify the front gate .\n",
      "110000 90175 337228 5596340 or make native plant seed bombs !\n",
      "112000 91181 344089 5712817 normally they shut up after i shoot but still\n",
      "114000 92245 349972 5807461 i say go with the druid , just for flexibility ; they will most likely always be viable and fun to play .\n",
      "vocab size: 93126, num_sents: 355570, num_tokens: 5901225\n",
      "[('.', 270385), (',', 194464), ('the', 191572), ('i', 162118), ('to', 136708)]\n"
     ]
    }
   ],
   "source": [
    "train_file = f'convokit-{corpus_name}-train.txt'\n",
    "valid_file = f'convokit-{corpus_name}-valid.txt'\n",
    "test_file = f'convokit-{corpus_name}-test.txt'\n",
    "vocab_file = f'convokit-{corpus_name}-vocab.json'\n",
    "\n",
    "random.seed(17)\n",
    "vocab = defaultdict(int)\n",
    "nlp = spacy.load(\"en_core_web_sm\") # Load the English small core model provided by SpaCy. \n",
    "num_tokens = 0\n",
    "num_sents = 0\n",
    "train_prec = 0.98\n",
    "valid_prec = 0.01\n",
    "test_prec = 0.01\n",
    "\n",
    "with open(train_file, 'w') as train_out, open(valid_file, 'w') as valid_out, open(test_file, 'w') as test_out:\n",
    "    print('preprocessing: ', corpus_name)\n",
    "    for ind, utt in enumerate(subreddit_corpus.iter_utterances()):\n",
    "        raw_text = re.sub(r'http[s]?://\\S+|www\\.\\S+', '', utt.text)  # Remove URLs\n",
    "        raw_text = re.sub(r'[\\n\\r]+', ' ', raw_text)  # Remove newline characters and replace them with a space\n",
    "        raw_text = re.sub(r'[^\\w\\s\\.,!?;:(){}\\'\"-]', '', raw_text)  # Remove non-alphanumeric characters except punctuation\n",
    "        if len(raw_text) == 0:\n",
    "            continue\n",
    "        doc = nlp(raw_text.lower())\n",
    "        for sent in doc.sents:\n",
    "            tokens = [token.text for token in sent]\n",
    "            num_tokens += len(tokens)\n",
    "            if len(tokens) <= 1:\n",
    "                continue # ignore a single token sentence\n",
    "            num_sents += 1\n",
    "            line = clean_text(sent.text)\n",
    "            line = line.strip()\n",
    "            for item in line.split(' '):\n",
    "                vocab[item] += 1\n",
    "            if len(line) <= 0:\n",
    "                continue\n",
    "            \n",
    "            # Randomly assign the sentence to train, valid, or test based on probabilities\n",
    "            rand = random.random()  # Generate a random number between 0 and 1\n",
    "            if rand <= train_prec:\n",
    "                # 98% probability for train\n",
    "                train_out.write(line + '\\n')\n",
    "            elif rand <= train_prec + valid_prec:\n",
    "                # 1% probability for valid\n",
    "                valid_out.write(line + '\\n')\n",
    "            else:\n",
    "                # 1% probability for test\n",
    "                test_out.write(line + '\\n')\n",
    "        if ind % 2000 == 0: # sampling some output to verify\n",
    "            print(ind, len(vocab), num_sents, num_tokens, line)\n",
    "print(f\"vocab size: {len(vocab)}, num_sents: {num_sents}, num_tokens: {num_tokens}\")\n",
    "# Sort the items in the vocabulary dictionary (vocab) based on their counts (the second element of each key-value pair).\n",
    "sorted_vocab = sorted(vocab.items(), key=lambda item: item[1], reverse=True) \n",
    "print(sorted_vocab[:5])\n",
    "\n",
    "# Write the entire vocabulary as a single JSON object\n",
    "with open(vocab_file, \"w\") as vocab_f:\n",
    "    for word, count in sorted_vocab:\n",
    "        json.dump({word:count}, vocab_f)\n",
    "        vocab_f.write('\\n')"
   ]
  },
  {
   "cell_type": "markdown",
   "id": "073f8ecf",
   "metadata": {},
   "source": [
    "## Use [kenlm](https://github.com/kpu/kenlm) to build N-gram language model on this dataset.\n",
    "\n",
    "#### 编译 `kenlm` 以获取 `lmplz`\n",
    "\n",
    "1. 克隆 `kenlm` 仓库：\n",
    "   ```bash\n",
    "    git clone https://github.com/kpu/kenlm.git\n",
    "   ```\n",
    "2. 创建构建目录并编译：\n",
    "\n",
    "    进入 `kenlm` 目录，然后创建一个名为 `build` 的目录，并在其中编译 `kenlm`：\n",
    "\n",
    "    ```bash\n",
    "    mkdir -p build\n",
    "    cd build\n",
    "    cmake ..\n",
    "    make -j 4\n",
    "    ```\n",
    "\n",
    "3.  编译完成后，lmplz 会出现在 build/bin 目录中：\n",
    "\n",
    "    ```bash\n",
    "    ls build/bin/lmplz\n",
    "    ```"
   ]
  },
  {
   "cell_type": "markdown",
   "id": "d36d53bc",
   "metadata": {},
   "source": [
    "## Task 2 build language model using kenlm\n",
    "1. build kenlm, different system may different, you need to have tools gcc, cmake\n",
    "2. using lmplz (get to known this app first) to train 2-gram model using your traing text\n",
    "3. using lmplz to train 3-gram model using your traing text\n",
    "4. using lmplz to train 4-gram model using your traing text\n",
    "\n",
    "At this point, you should get 3 arpa files, each file saves the N-gram model you learned."
   ]
  },
  {
   "cell_type": "code",
   "execution_count": 6,
   "id": "7834a7a5-67bd-44bd-8d98-4c7e540539ec",
   "metadata": {},
   "outputs": [
    {
     "name": "stdout",
     "output_type": "stream",
     "text": [
      "/bin/bash: line 1: /mnt/data/binbin/git/kenlm/build/bin/lmplz: No such file or directory\n"
     ]
    }
   ],
   "source": [
    "# the following code is runnable in Linux and Mac OS\n",
    "## Use lmplz from kenlm to build a N-gram language model from input text file and save output in ARPA format.\n",
    "\n",
    "!/mnt/data/binbin/git/kenlm/build/bin/lmplz -o 2 < convokit-reddit-coarse-discourse-corpus-train.txt > convokit-reddit-coarse-discourse-corpus-train-2-gram.arpa\n",
    "# !/Users/baojianzhou/git/kenlm/build/bin/lmplz -o 3 < convokit-reddit-coarse-discourse-corpus-train.txt > convokit-reddit-coarse-discourse-corpus-3-gram.arpa\n",
    "# !/Users/baojianzhou/git/kenlm/build/bin/lmplz -o 4 < convokit-reddit-coarse-discourse-corpus-train.txt > convokit-reddit-coarse-discourse-corpus-4-gram.arpa\n",
    "# !/Users/baojianzhou/git/kenlm/build/bin/lmplz -o 5 < convokit-reddit-coarse-discourse-corpus-train.txt > convokit-reddit-coarse-discourse-corpus-5-gram.arpa"
   ]
  },
  {
   "cell_type": "markdown",
   "id": "486819d3",
   "metadata": {},
   "source": [
    "## Task 3 to test your N-gram model using test text\n",
    "1. write a piece of code to calculate the perpelexity\n",
    "2. Load your model and test your three models to compute PPL\n",
    "3. Draw a line (x-axis is N, y-axis is your perplexity)\n"
   ]
  },
  {
   "cell_type": "code",
   "execution_count": null,
   "id": "4a857d58-3f62-4e84-8814-95a6f379b830",
   "metadata": {},
   "outputs": [],
   "source": [
    "def calculate_perplexity(test_sents, model):\n",
    "    \"\"\"\n",
    "    Calculate the perplexity of a language model on a set of test sentences.\n",
    "\n",
    "    Args:\n",
    "        test_sents (list): A list of test sentences.\n",
    "        model: A language model object with a 'score' method.\n",
    "\n",
    "    Returns:\n",
    "        float: The perplexity of the model on the test sentences.\n",
    "    \"\"\"\n",
    "    tokens = 0\n",
    "    sum_log10_prob = 0.\n",
    "    for sent in test_sents:\n",
    "        log10_prob = model.score(sent, bos=True, eos=True)\n",
    "        tokens += len(sent.split())  + 1 # 1 means </s>\n",
    "        sum_log10_prob += log10_prob\n",
    "    # Calculate the perplexity: 10 ** (-log10_prob / N)\n",
    "    perplexity = 10.0** (-sum_log10_prob/tokens)\n",
    "    return perplexity"
   ]
  },
  {
   "cell_type": "code",
   "execution_count": 14,
   "id": "d93cc1a7-896f-4e15-b46f-e437d080685b",
   "metadata": {},
   "outputs": [
    {
     "name": "stdout",
     "output_type": "stream",
     "text": [
      "-8.047130584716797\n"
     ]
    },
    {
     "name": "stderr",
     "output_type": "stream",
     "text": [
      "Loading the LM will be faster if you build a binary file.\n",
      "Reading /Users/baojianzhou/Library/Mobile Documents/com~apple~CloudDocs/fudan/2025/nlp-25/lecture-02/convokit-reddit-coarse-discourse-corpus-2-gram.arpa\n",
      "----5---10---15---20---25---30---35---40---45---50---55---60---65---70---75---80---85---90---95--100\n",
      "****************************************************************************************************\n"
     ]
    }
   ],
   "source": [
    "import kenlm\n",
    "bigram_model = kenlm.Model('convokit-reddit-coarse-discourse-corpus-2-gram.arpa')\n",
    "print(bigram_model.score('this is a sentence .', bos = True, eos = True))"
   ]
  },
  {
   "cell_type": "code",
   "execution_count": 16,
   "id": "8d1301fc-ae5c-4dc4-bd74-426211c15f30",
   "metadata": {},
   "outputs": [
    {
     "name": "stderr",
     "output_type": "stream",
     "text": [
      "Loading the LM will be faster if you build a binary file.\n",
      "Reading /Users/baojianzhou/Library/Mobile Documents/com~apple~CloudDocs/fudan/2025/nlp-25/lecture-02/convokit-reddit-coarse-discourse-corpus-2-gram.arpa\n",
      "----5---10---15---20---25---30---35---40---45---50---55---60---65---70---75---80---85---90---95--100\n",
      "****************************************************************************************************\n",
      "Loading the LM will be faster if you build a binary file.\n",
      "Reading /Users/baojianzhou/Library/Mobile Documents/com~apple~CloudDocs/fudan/2025/nlp-25/lecture-02/convokit-reddit-coarse-discourse-corpus-3-gram.arpa\n",
      "----5---10---15---20---25---30---35---40---45---50---55---60---65---70---75---80---85---90---95--100\n",
      "****************************************************************************************************\n",
      "Loading the LM will be faster if you build a binary file.\n",
      "Reading /Users/baojianzhou/Library/Mobile Documents/com~apple~CloudDocs/fudan/2025/nlp-25/lecture-02/convokit-reddit-coarse-discourse-corpus-4-gram.arpa\n",
      "----5---10---15---20---25---30---35---40---45---50---55---60---65---70---75---80---85---90---95--100\n",
      "****************************************************************************************************\n",
      "Loading the LM will be faster if you build a binary file.\n",
      "Reading /Users/baojianzhou/Library/Mobile Documents/com~apple~CloudDocs/fudan/2025/nlp-25/lecture-02/convokit-reddit-coarse-discourse-corpus-5-gram.arpa\n",
      "----5---10---15---20---25---30---35---40---45---50---55---60---65---70---75---80---85---90---95--100\n",
      "****************************************************************************************************\n"
     ]
    }
   ],
   "source": [
    "gram_2_model = kenlm.Model('convokit-reddit-coarse-discourse-corpus-2-gram.arpa')\n",
    "gram_3_model = kenlm.Model('convokit-reddit-coarse-discourse-corpus-3-gram.arpa')\n",
    "gram_4_model = kenlm.Model('convokit-reddit-coarse-discourse-corpus-4-gram.arpa')\n",
    "gram_5_model = kenlm.Model('convokit-reddit-coarse-discourse-corpus-5-gram.arpa')"
   ]
  },
  {
   "cell_type": "code",
   "execution_count": 18,
   "id": "9a8ce848-da25-42ba-ae25-4b9cd1630836",
   "metadata": {},
   "outputs": [
    {
     "name": "stdout",
     "output_type": "stream",
     "text": [
      "2-gram 206.1087241802966\n",
      "3-gram 164.59703486989238\n",
      "4-gram 157.9715974327806\n",
      "5-gram 156.76689020884245\n"
     ]
    }
   ],
   "source": [
    "# Read the sentences from the convokit-test.txt file\n",
    "perplexity = []\n",
    "with open('convokit-reddit-coarse-discourse-corpus-test.txt', 'r') as f:\n",
    "    test_sents = f.readlines()\n",
    "model_names = ['2-gram', '3-gram', '4-gram', '5-gram']\n",
    "for model, model_name in zip([gram_2_model, gram_3_model, gram_4_model, gram_5_model], model_names):\n",
    "    print(model_name, calculate_perplexity(test_sents, model))\n",
    "    perplexity.append(calculate_perplexity(test_sents, model))"
   ]
  },
  {
   "cell_type": "code",
   "execution_count": 19,
   "id": "04fa7915-b5dd-4e95-96d8-6f5f3345a1d4",
   "metadata": {},
   "outputs": [
    {
     "data": {
      "text/plain": [
       "Text(0, 0.5, 'perplexity')"
      ]
     },
     "execution_count": 19,
     "metadata": {},
     "output_type": "execute_result"
    },
    {
     "data": {
      "image/png": "[encoded data removed]",
      "text/plain": [
       "<Figure size 640x480 with 1 Axes>"
      ]
     },
     "metadata": {},
     "output_type": "display_data"
    }
   ],
   "source": [
    "plt.plot([2, 3, 4, 5],perplexity)\n",
    "plt.xlabel('N-gram')\n",
    "plt.ylabel('perplexity')"
   ]
  },
  {
   "cell_type": "markdown",
   "id": "3efcc5b3",
   "metadata": {},
   "source": [
    "##  Task 4 to generate some random sentences use your model\n",
    "1. write a function to do sampling, you may use state_in, state_out = kenlm.State(), kenlm.State()\n",
    "2. for 3 models, sampling some sentences\n",
    "\n",
    "If you don't know how to do, please check https://github.com/tiefenauer/wiki-lm"
   ]
  },
  {
   "cell_type": "code",
   "execution_count": 21,
   "id": "8f9083c7-91e3-4429-9c8c-f84231629d54",
   "metadata": {},
   "outputs": [],
   "source": [
    "def ngram_generate(model, vocab, prompt, rand_seed, k, max_words):\n",
    "    random.seed(rand_seed)\n",
    "    sentence = ''\n",
    "    state_in, state_out = kenlm.State(), kenlm.State()\n",
    "    total_score = 0.0\n",
    "    model.BeginSentenceWrite(state_in)\n",
    "    selected_next_word = prompt\n",
    "    count = 0\n",
    "    while count < max_words:\n",
    "        sentence += ' ' + selected_next_word\n",
    "        sentence = sentence.strip()\n",
    "        total_score += model.BaseScore(state_in, word, state_out)\n",
    "        candidates = list((model.score(sentence + ' ' + next_word), next_word) for next_word in vocab)\n",
    "        top_words = sorted(candidates, key=lambda item: item[0], reverse=True)\n",
    "        selected_next_word = top_words[random.randint(0, k)][1]\n",
    "        state_in, state_out = state_out, state_in\n",
    "        count += 1\n",
    "    return sentence"
   ]
  },
  {
   "cell_type": "code",
   "execution_count": 24,
   "id": "f5203e52-7fb9-4bb0-b0b6-5aa09d363968",
   "metadata": {},
   "outputs": [],
   "source": [
    "vocab = set()\n",
    "vocab_path = 'convokit-reddit-coarse-discourse-corpus-vocab.json'\n",
    "for line in open(vocab_path):\n",
    "    word_dict = json.loads(line)\n",
    "    for word, count in word_dict.items():\n",
    "        vocab.add(word)"
   ]
  },
  {
   "cell_type": "code",
   "execution_count": 26,
   "id": "aab74d24-154e-4363-9ab4-a8c2d56b2335",
   "metadata": {},
   "outputs": [
    {
     "name": "stdout",
     "output_type": "stream",
     "text": [
      "2-gram:  this is ! .. haha okay to sleep like crazy haha and .... bitch ! now ....... offline lol 30 goals\n",
      "3-gram:  this is my excuse that way now is not it all good friends . nbsp xd the time though as that\n",
      "4-gram:  this is for free time also welcome d .. ! ... ... alrighty _ specifics man ? pics d and so\n",
      "5-gram:  this is obviously ; a .. the back yet either in a specific one summer ! thanks ... here for\n",
      "----------------------------------------\n",
      "2-gram:  this is fun haha .. or tomorrow at ? .... today about something called aviva yet unmistaken game today\n",
      "3-gram:  this is fine though the janna ! ... wow time consuming loads haha dang ! ; ʖ 3 ... ..\n",
      "4-gram:  this is it expensive spells , ac again ? ; 3 times over christmas one class players there xd so\n",
      "5-gram:  this is 100 on twitter too .. , iirc . too risky here to me today lol retard them haha\n",
      "----------------------------------------\n",
      "2-gram:  this is also ? hahahahaha today actually . , one more ; o w ? d be wrong ... now or\n",
      "3-gram:  this is it just wo break again tho or more here aswell again i now added do that much easier though\n",
      "4-gram:  this is 100 correct here forever war in history on . 22 yesterday though he wants ..... xd , i .\n",
      "5-gram:  this is why my case fractal geometry there are off the bed is best for that ... please ....... etc there\n",
      "----------------------------------------\n"
     ]
    }
   ],
   "source": [
    "for i in range(3):\n",
    "    for n, model in zip([2,3,4,5], [gram_2_model, gram_3_model, gram_4_model, gram_5_model]):\n",
    "        sentence = ngram_generate(model, vocab, \"this is\", rand_seed=i*4 + n, k=50, max_words=20)\n",
    "        print(f'{n}-gram: ', sentence)\n",
    "    print('-'*40)"
   ]
  }
 ],
 "metadata": {
  "kernelspec": {
   "display_name": "nlp-25",
   "language": "python",
   "name": "python3"
  },
  "language_info": {
   "codemirror_mode": {
    "name": "ipython",
    "version": 3
   },
   "file_extension": ".py",
   "mimetype": "text/x-python",
   "name": "python",
   "nbconvert_exporter": "python",
   "pygments_lexer": "ipython3",
   "version": "3.10.16"
  }
 },
 "nbformat": 4,
 "nbformat_minor": 5
}
