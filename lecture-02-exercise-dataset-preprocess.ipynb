{
 "cells": [
  {
   "cell_type": "code",
   "execution_count": 1,
   "id": "17c18ef3-6f1f-4bef-b581-ac7f210cbf72",
   "metadata": {},
   "outputs": [],
   "source": [
    "import os\n",
    "import re\n",
    "import json\n",
    "import spacy\n",
    "import random\n",
    "import convokit\n",
    "import numpy as np\n",
    "from tqdm import tqdm\n",
    "from nltk import ngrams\n",
    "from collections import defaultdict\n",
    "from convokit import Corpus, download\n",
    "from spacy.tokenizer import Tokenizer\n",
    "import matplotlib.pyplot as plt"
   ]
  },
  {
   "cell_type": "code",
   "execution_count": 2,
   "id": "e706e983-ae37-4ec4-8c82-b95978133ab6",
   "metadata": {},
   "outputs": [
    {
     "name": "stdout",
     "output_type": "stream",
     "text": [
      "32 convokit datasets\n"
     ]
    }
   ],
   "source": [
    "corpus_names = [\n",
    "    \"chromium-corpus\",\n",
    "    \"conversations-gone-awry-cmv-corpus\",\n",
    "    \"conversations-gone-awry-corpus\",\n",
    "    \"deli-corpus\",\n",
    "    \"diplomacy-corpus\",\n",
    "    \"friends-corpus\",\n",
    "    \"fomc-corpus\",\n",
    "    \"fora-corpus\",\n",
    "    \"gap-corpus\",\n",
    "    \"iq2-corpus\",\n",
    "    \"movie-corpus\",\n",
    "    \"npr-2p-corpus\",\n",
    "    \"parliament-corpus\",\n",
    "    \"persuasionforgood-corpus\",\n",
    "    \"reddit-coarse-discourse-corpus\",\n",
    "    \"reddit-corpus\",\n",
    "    \"reddit-corpus-small\",\n",
    "    \"spolin-corpus\",\n",
    "    \"stack-exchange-politeness-corpus\",\n",
    "    \"supreme-corpus\",\n",
    "    \"switchboard-corpus\",\n",
    "    \"switchboard-processed-corpus\",\n",
    "    \"tennis-corpus\",\n",
    "    \"wiki-corpus\",\n",
    "    \"wiki-politeness-annotated\",\n",
    "    \"wikiconv-corpus\",\n",
    "    \"wikipedia-politeness-corpus\",\n",
    "    \"winning-args-corpus\",\n",
    "    \"wiki-articles-for-deletion-corpus\",\n",
    "    \"casino-corpus\",\n",
    "    \"wiki-sampled-en-corpus\",\n",
    "    \"wiki-sampled-zh-corpus\"]\n",
    "print(f'{len(corpus_names)} convokit datasets')"
   ]
  },
  {
   "cell_type": "code",
   "execution_count": 3,
   "id": "2385ccd7-1ec4-43eb-bb2d-aae62232fd72",
   "metadata": {},
   "outputs": [],
   "source": [
    "nlp = spacy.load(\"en_core_web_sm\", disable=[\"tagger\", \"parser\", \"ner\"])\n",
    "raw_text_file = 'datasets/convokit/convokit-all-raw-text.txt'\n",
    "raw_text_vocab = 'datasets/convokit/convokit-all-raw-vocab.txt'"
   ]
  },
  {
   "cell_type": "code",
   "execution_count": null,
   "id": "dcb89e1b-cdd7-4998-bc6b-34d51d010e2f",
   "metadata": {},
   "outputs": [],
   "source": [
    "vocab = defaultdict(int)\n",
    "with open('datasets/convokit/convokit-all-raw-text.txt', 'r') as raw_text_f:\n",
    "    texts = raw_text_f.readlines()\n",
    "    docs = nlp.tokenizer.pipe(texts)\n",
    "    count = 0\n",
    "    with open(raw_text_toknenized, 'w') as raw_text_ff:\n",
    "        for doc in tqdm(docs):\n",
    "            trimed = []\n",
    "            for token in doc:\n",
    "                item = token.text.strip()\n",
    "                if len(item) != 0:\n",
    "                    trimed.append(item)\n",
    "                    vocab[item] += 1\n",
    "sorted_vocab = sorted(vocab.items(), key=lambda item: item[1], reverse=True)\n",
    "print(len(sorted_vocab))\n",
    "print(len(sorted_vocab) - len([_ for _ in sorted_vocab if _[1] == 1]))\n",
    "print(len(sorted_vocab) - len([_ for _ in sorted_vocab if _[1] <= 2]))\n",
    "print(len(sorted_vocab) - len([_ for _ in sorted_vocab if _[1] <= 3]))\n",
    "print(len(sorted_vocab) - len([_ for _ in sorted_vocab if _[1] <= 4]))\n",
    "print(len(sorted_vocab) - len([_ for _ in sorted_vocab if _[1] <= 5]))\n",
    "print(len(sorted_vocab) - len([_ for _ in sorted_vocab if _[1] <= 20]))"
   ]
  },
  {
   "cell_type": "code",
   "execution_count": 104,
   "id": "981f2e7c-27a5-4670-aaf0-27ee49cfd4af",
   "metadata": {},
   "outputs": [
    {
     "name": "stdout",
     "output_type": "stream",
     "text": [
      "103947\n"
     ]
    }
   ],
   "source": [
    "less_freq_vocab = {_[0]:\"UNK\" for _ in sorted_vocab if _[1] <=30}\n",
    "print(len(sorted_vocab) - len(less_freq_vocab))"
   ]
  },
  {
   "cell_type": "code",
   "execution_count": 107,
   "id": "52dd2734-d561-4c1d-86c7-d4a08875b16e",
   "metadata": {},
   "outputs": [
    {
     "name": "stderr",
     "output_type": "stream",
     "text": [
      "36909120it [28:05, 21893.92it/s]\n"
     ]
    }
   ],
   "source": [
    "train_file = 'datasets/convokit/convokit-all-train.txt'\n",
    "valid_file = 'datasets/convokit/convokit-all-valid.txt'\n",
    "test_file = 'datasets/convokit/convokit-all-test.txt'\n",
    "vocab_input_file = \"datasets/convokit/convokit-all-vocab.json\"\n",
    "\n",
    "random.seed(17)\n",
    "vocab = defaultdict(int)\n",
    "with open(train_file, 'w') as train_out, open(valid_file, 'w') as valid_out, open(test_file, 'w') as test_out:\n",
    "    with open('datasets/convokit/convokit-all-raw-text.txt', 'r') as infile:\n",
    "        texts = infile.readlines()\n",
    "        docs = nlp.tokenizer.pipe(texts)\n",
    "        count = 0\n",
    "        for doc in tqdm(docs):\n",
    "            effective_tokens = []\n",
    "            for token in doc:\n",
    "                item = token.text.strip()\n",
    "                if len(item) != 0:\n",
    "                    if item in less_freq_vocab:\n",
    "                        effective_tokens.append(less_freq_vocab[item])\n",
    "                    else:\n",
    "                        effective_tokens.append(item)\n",
    "                        vocab[item] += 1\n",
    "            trimed_sent = \" \".join(effective_tokens) + '\\n'\n",
    "            rand = random.random()\n",
    "            if rand < 0.98:  # 98 % probability for train\n",
    "                train_out.write(trimed_sent)\n",
    "            elif rand < 0.99:  # 1 % probability for valid\n",
    "                valid_out.write(trimed_sent)\n",
    "            else:  # 1 % probability for test\n",
    "                test_out.write(trimed_sent)\n",
    "\n",
    "sorted_vocab = sorted(vocab.items(), key=lambda item: item[1], reverse=True)\n",
    "with open(vocab_input_file, \"w\") as vocab_file:\n",
    "    for word,count in sorted_vocab:\n",
    "        json.dump({word:count}, vocab_file)\n",
    "        vocab_file.write('\\n')"
   ]
  },
  {
   "cell_type": "code",
   "execution_count": 36,
   "id": "4a639885-b4ea-4bac-849b-df26783a6e15",
   "metadata": {},
   "outputs": [
    {
     "name": "stdout",
     "output_type": "stream",
     "text": [
      "processing:  chromium-corpus\n",
      "processing:  conversations-gone-awry-cmv-corpus\n",
      "processing:  conversations-gone-awry-corpus\n",
      "processing:  deli-corpus\n",
      "processing:  diplomacy-corpus\n",
      "processing:  friends-corpus\n",
      "processing:  fomc-corpus\n",
      "processing:  fora-corpus\n",
      "processing:  gap-corpus\n",
      "processing:  iq2-corpus\n",
      "processing:  movie-corpus\n",
      "processing:  npr-2p-corpus\n",
      "processing:  parliament-corpus\n",
      "processing:  persuasionforgood-corpus\n",
      "processing:  reddit-coarse-discourse-corpus\n",
      "processing:  reddit-corpus\n",
      "processing:  reddit-corpus-small\n",
      "processing:  spolin-corpus\n",
      "processing:  stack-exchange-politeness-corpus\n",
      "processing:  supreme-corpus\n",
      "processing:  switchboard-corpus\n",
      "processing:  switchboard-processed-corpus\n",
      "processing:  tennis-corpus\n",
      "processing:  wiki-corpus\n",
      "processing:  wiki-politeness-annotated\n",
      "processing:  wikiconv-corpus\n",
      "processing:  wikipedia-politeness-corpus\n",
      "processing:  winning-args-corpus\n",
      "processing:  wiki-articles-for-deletion-corpus\n",
      "processing:  casino-corpus\n",
      "processing:  wiki-sampled-en-corpus\n",
      "processing:  wiki-sampled-zh-corpus\n"
     ]
    }
   ],
   "source": [
    "# copy all raw text into one text\n",
    "vocab = defaultdict(int)\n",
    "with open(raw_text_file, 'w') as raw_text_f:\n",
    "    for corpus_name in corpus_names:\n",
    "        input_file = f\"datasets/convokit/convokit-{corpus_name}.txt\"\n",
    "        if not os.path.exists(input_file):\n",
    "                print('missing', input_file)\n",
    "                continue\n",
    "        print('processing: ', corpus_name)\n",
    "        with open(input_file, 'r') as infile:\n",
    "            for line in infile:\n",
    "                for item in line.split(' '):\n",
    "                        vocab[item] += 1\n",
    "                raw_text_f.write(line + '\\n')\n",
    "\n",
    "sorted_vocab = sorted(vocab.items(), key=lambda item: item[1], reverse=True)\n",
    "with open(raw_text_vocab, \"w\") as vocab_file:\n",
    "    for word,count in sorted_vocab:\n",
    "        json.dump({word:count}, vocab_file)\n",
    "        vocab_file.write('\\n')"
   ]
  },
  {
   "cell_type": "code",
   "execution_count": 56,
   "id": "9cbdf675-a557-4f19-8ca9-04da712db0ee",
   "metadata": {},
   "outputs": [
    {
     "name": "stdout",
     "output_type": "stream",
     "text": [
      "5400120\n",
      "2325084\n",
      "1237689\n",
      "986397\n",
      "781588\n",
      "684273\n",
      "273032\n"
     ]
    }
   ],
   "source": [
    "print(len(sorted_vocab))\n",
    "print(len(sorted_vocab) - len([_ for _ in sorted_vocab if _[1] == 1]))\n",
    "print(len(sorted_vocab) - len([_ for _ in sorted_vocab if _[1] <= 2]))\n",
    "print(len(sorted_vocab) - len([_ for _ in sorted_vocab if _[1] <= 3]))\n",
    "print(len(sorted_vocab) - len([_ for _ in sorted_vocab if _[1] <= 4]))\n",
    "print(len(sorted_vocab) - len([_ for _ in sorted_vocab if _[1] <= 5]))\n",
    "print(len(sorted_vocab) - len([_ for _ in sorted_vocab if _[1] <= 20]))"
   ]
  },
  {
   "cell_type": "code",
   "execution_count": 135,
   "id": "46d1da46-e262-43c7-9057-10430dd48a8f",
   "metadata": {},
   "outputs": [
    {
     "name": "stderr",
     "output_type": "stream",
     "text": [
      "Loading the LM will be faster if you build a binary file.\n",
      "Reading /Users/baojianzhou/.convokit/model_3_10_prec.arpa\n",
      "----5---10---15---20---25---30---35---40---45---50---55---60---65---70---75---80---85---90---95--100\n",
      "****************************************************************************************************\n",
      "Loading the LM will be faster if you build a binary file.\n",
      "Reading /Users/baojianzhou/.convokit/model_3_20_prec.arpa\n",
      "----5---10---15---20---25---30---35---40---45---50---55---60---65---70---75---80---85---90---95--100\n",
      "****************************************************************************************************\n",
      "Loading the LM will be faster if you build a binary file.\n",
      "Reading /Users/baojianzhou/.convokit/model_3_30_prec.arpa\n",
      "----5---10---15---20---25---30---35---40---45---50---55---60---65---70---75---80---85---90---95--100\n",
      "****************************************************************************************************\n",
      "Loading the LM will be faster if you build a binary file.\n",
      "Reading /Users/baojianzhou/.convokit/model_3_40_prec.arpa\n",
      "----5---10---15---20---25---30---35---40---45---50---55---60---65---70---75---80---85---90---95--100\n",
      "****************************************************************************************************\n",
      "Loading the LM will be faster if you build a binary file.\n",
      "Reading /Users/baojianzhou/.convokit/model_3_50_prec.arpa\n",
      "----5---10---15---20---25---30---35---40---45---50---55---60---65---70---75---80---85---90---95--100\n",
      "****************************************************************************************************\n",
      "Loading the LM will be faster if you build a binary file.\n",
      "Reading /Users/baojianzhou/.convokit/model_3_60_prec.arpa\n",
      "----5---10---15---20---25---30---35---40---45---50---55---60---65---70---75---80---85---90---95--100\n",
      "****************************************************************************************************\n",
      "Loading the LM will be faster if you build a binary file.\n",
      "Reading /Users/baojianzhou/.convokit/model_3_70_prec.arpa\n",
      "----5---10---15---20---25---30---35---40---45---50---55---60---65---70---75---80---85---90---95--100\n",
      "****************************************************************************************************\n",
      "Loading the LM will be faster if you build a binary file.\n",
      "Reading /Users/baojianzhou/.convokit/model_3_80_prec.arpa\n",
      "----5---10---15---20---25---30---35---40---45---50---55---60---65---70---75---80---85---90---95--100\n",
      "****************************************************************************************************\n",
      "Loading the LM will be faster if you build a binary file.\n",
      "Reading /Users/baojianzhou/.convokit/model_3_90_prec.arpa\n",
      "----5---10---15---20---25---30---35---40---45---50---55---60---65---70---75---80---85---90---95--100\n",
      "****************************************************************************************************\n",
      "Loading the LM will be faster if you build a binary file.\n",
      "Reading /Users/baojianzhou/.convokit/model_3_100_prec.arpa\n",
      "----5---10---15---20---25---30---35---40---45---50---55---60---65---70---75---80---85---90---95--100\n",
      "****************************************************************************************************\n"
     ]
    }
   ],
   "source": [
    "import kenlm\n",
    "order = 3 \n",
    "list_models = []\n",
    "# for prec in [10,20,30,40,50,60,70,80,90,100]:\n",
    "for prec in [10, 20, 30, 40, 50, 60, 70, 80, 90, 100]:\n",
    "    list_models.append(kenlm.Model(f'/Users/baojianzhou/.convokit/model_{order}_{prec}_prec.arpa'))"
   ]
  },
  {
   "cell_type": "code",
   "execution_count": 117,
   "id": "d45f957d-f546-4d9c-b77c-47bec87dd424",
   "metadata": {},
   "outputs": [],
   "source": [
    "def calculate_perplexity(test_sents, model):\n",
    "    tokens = 0\n",
    "    sum_log10_prob = 0.\n",
    "    for sent in test_sents:\n",
    "        log10_prob = model.score(sent, bos=True, eos=True)\n",
    "        tokens += len(sent.split())  + 1 # 1 means </s>\n",
    "        sum_log10_prob += log10_prob\n",
    "    # Calculate the perplexity: 10 ** (-log10_prob / N)\n",
    "    perplexity = 10.0** (-sum_log10_prob/tokens)\n",
    "    return perplexity"
   ]
  },
  {
   "cell_type": "code",
   "execution_count": 136,
   "id": "ef874e55-eea7-4ef9-9c62-1d96cec95744",
   "metadata": {},
   "outputs": [
    {
     "name": "stdout",
     "output_type": "stream",
     "text": [
      "442.41831186434985\n",
      "162.60105489495086\n",
      "127.05851816030182\n",
      "108.40705505223752\n",
      "99.94808224645347\n",
      "89.69837431876698\n",
      "85.84045806974976\n",
      "69.08049082082734\n",
      "65.41434890622038\n",
      "64.59703405663764\n"
     ]
    }
   ],
   "source": [
    "perplexity_3 = []\n",
    "with open('datasets/convokit/convokit-all-test.txt', 'r') as f:\n",
    "    test_sents = f.readlines()\n",
    "for model in list_models:\n",
    "    prep = calculate_perplexity(test_sents, model)\n",
    "    print(prep)\n",
    "    perplexity_3.append(prep)"
   ]
  },
  {
   "cell_type": "code",
   "execution_count": 131,
   "id": "9aee9637-bff7-48c2-b1a4-41f2fcc2e384",
   "metadata": {},
   "outputs": [
    {
     "name": "stdout",
     "output_type": "stream",
     "text": [
      "527.049204175791\n",
      "221.13800965967647\n",
      "189.87998207110002\n",
      "177.69569311468467\n",
      "175.0490856053404\n",
      "168.36438360200867\n",
      "163.88783162968556\n",
      "140.6780406945371\n",
      "134.2935780548883\n",
      "133.22550438199124\n"
     ]
    }
   ],
   "source": [
    "perplexity_2 = []\n",
    "with open('datasets/convokit/convokit-all-test.txt', 'r') as f:\n",
    "    test_sents = f.readlines()\n",
    "for model in list_models:\n",
    "    prep = calculate_perplexity(test_sents, model)\n",
    "    print(prep)\n",
    "    perplexity_2.append(prep)"
   ]
  },
  {
   "cell_type": "code",
   "execution_count": null,
   "id": "2eba57f3-edc0-4737-8e25-699e697da8e8",
   "metadata": {},
   "outputs": [
    {
     "data": {
      "image/png": "[encoded data removed]",
      "text/plain": [
       "<Figure size 640x480 with 1 Axes>"
      ]
     },
     "metadata": {},
     "output_type": "display_data"
    }
   ],
   "source": [
    "plt.plot(np.arange(1, 11), perplexity, marker=\"D\", color=\"green\", label=\"Bigram\")\n",
    "plt.plot(np.arange(1, 11) / 10, perplexity_3, marker=\"D\", color=\"blue\", label=\"Trigram\")\n",
    "plt.xlabel('Procentage of tokens')\n",
    "plt.ylabel('Perplexity')\n",
    "plt.legend()\n",
    "plt.show()"
   ]
  },
  {
   "cell_type": "code",
   "execution_count": null,
   "id": "49f0dfa5-4954-41dc-add6-bb739bd9466e",
   "metadata": {},
   "outputs": [],
   "source": [
    "perplexity = []\n",
    "with open('convokit-reddit-coarse-discourse-corpus-test.txt', 'r') as f:\n",
    "    test_sents = f.readlines()\n",
    "model_names = ['2-gram', '3-gram', '4-gram', '5-gram']\n",
    "for model, model_name in zip([gram_2_model, gram_3_model, gram_4_model, gram_5_model], model_names):\n",
    "    print(model_name, calculate_perplexity(test_sents, model))\n",
    "    perplexity.append(calculate_perplexity(test_sents, model))"
   ]
  },
  {
   "cell_type": "code",
   "execution_count": 60,
   "id": "7702e037-8487-4dbf-a603-5d3ffc299c80",
   "metadata": {},
   "outputs": [],
   "source": [
    "less_freq_vocab = {_[0]:'UNK' for _ in sorted_vocab if _[1] <=5 }"
   ]
  },
  {
   "cell_type": "code",
   "execution_count": 69,
   "id": "4cf2008b-7bbb-4cb6-b0c7-6492c258d91b",
   "metadata": {},
   "outputs": [
    {
     "name": "stdout",
     "output_type": "stream",
     "text": [
      "processing:  chromium-corpus\n"
     ]
    },
    {
     "name": "stderr",
     "output_type": "stream",
     "text": [
      "4504774it [00:09, 464951.11it/s]\n"
     ]
    },
    {
     "name": "stdout",
     "output_type": "stream",
     "text": [
      "processing:  conversations-gone-awry-cmv-corpus\n"
     ]
    },
    {
     "name": "stderr",
     "output_type": "stream",
     "text": [
      "258619it [00:00, 320270.02it/s]\n"
     ]
    },
    {
     "name": "stdout",
     "output_type": "stream",
     "text": [
      "processing:  conversations-gone-awry-corpus\n"
     ]
    },
    {
     "name": "stderr",
     "output_type": "stream",
     "text": [
      "118269it [00:00, 288923.28it/s]\n"
     ]
    },
    {
     "name": "stdout",
     "output_type": "stream",
     "text": [
      "processing:  deli-corpus\n"
     ]
    },
    {
     "name": "stderr",
     "output_type": "stream",
     "text": [
      "14372it [00:00, 624164.27it/s]\n"
     ]
    },
    {
     "name": "stdout",
     "output_type": "stream",
     "text": [
      "processing:  diplomacy-corpus\n"
     ]
    },
    {
     "name": "stderr",
     "output_type": "stream",
     "text": [
      "30503it [00:00, 440876.57it/s]\n"
     ]
    },
    {
     "name": "stdout",
     "output_type": "stream",
     "text": [
      "processing:  friends-corpus\n"
     ]
    },
    {
     "name": "stderr",
     "output_type": "stream",
     "text": [
      "105747it [00:00, 778924.28it/s]\n"
     ]
    },
    {
     "name": "stdout",
     "output_type": "stream",
     "text": [
      "processing:  fomc-corpus\n"
     ]
    },
    {
     "name": "stderr",
     "output_type": "stream",
     "text": [
      "465026it [00:01, 299785.85it/s]\n"
     ]
    },
    {
     "name": "stdout",
     "output_type": "stream",
     "text": [
      "processing:  fora-corpus\n"
     ]
    },
    {
     "name": "stderr",
     "output_type": "stream",
     "text": [
      "465026it [00:01, 300730.22it/s]\n"
     ]
    },
    {
     "name": "stdout",
     "output_type": "stream",
     "text": [
      "processing:  gap-corpus\n"
     ]
    },
    {
     "name": "stderr",
     "output_type": "stream",
     "text": [
      "8218it [00:00, 800743.16it/s]\n"
     ]
    },
    {
     "name": "stdout",
     "output_type": "stream",
     "text": [
      "processing:  iq2-corpus\n"
     ]
    },
    {
     "name": "stderr",
     "output_type": "stream",
     "text": [
      "124834it [00:00, 365550.16it/s]\n"
     ]
    },
    {
     "name": "stdout",
     "output_type": "stream",
     "text": [
      "processing:  movie-corpus\n"
     ]
    },
    {
     "name": "stderr",
     "output_type": "stream",
     "text": [
      "510477it [00:00, 724839.60it/s]\n"
     ]
    },
    {
     "name": "stdout",
     "output_type": "stream",
     "text": [
      "processing:  npr-2p-corpus\n"
     ]
    },
    {
     "name": "stderr",
     "output_type": "stream",
     "text": [
      "1177187it [00:03, 369452.21it/s]\n"
     ]
    },
    {
     "name": "stdout",
     "output_type": "stream",
     "text": [
      "processing:  parliament-corpus\n"
     ]
    },
    {
     "name": "stderr",
     "output_type": "stream",
     "text": [
      "1352322it [00:05, 248230.50it/s]\n"
     ]
    },
    {
     "name": "stdout",
     "output_type": "stream",
     "text": [
      "processing:  persuasionforgood-corpus\n"
     ]
    },
    {
     "name": "stderr",
     "output_type": "stream",
     "text": [
      "37116it [00:00, 549403.88it/s]\n"
     ]
    },
    {
     "name": "stdout",
     "output_type": "stream",
     "text": [
      "processing:  reddit-coarse-discourse-corpus\n"
     ]
    },
    {
     "name": "stderr",
     "output_type": "stream",
     "text": [
      "355570it [00:00, 369886.04it/s]\n"
     ]
    },
    {
     "name": "stdout",
     "output_type": "stream",
     "text": [
      "processing:  reddit-corpus\n"
     ]
    },
    {
     "name": "stderr",
     "output_type": "stream",
     "text": [
      "5825131it [00:15, 373871.30it/s]\n"
     ]
    },
    {
     "name": "stdout",
     "output_type": "stream",
     "text": [
      "processing:  reddit-corpus-small\n"
     ]
    },
    {
     "name": "stderr",
     "output_type": "stream",
     "text": [
      "5825131it [00:15, 381727.94it/s]\n"
     ]
    },
    {
     "name": "stdout",
     "output_type": "stream",
     "text": [
      "processing:  spolin-corpus\n"
     ]
    },
    {
     "name": "stderr",
     "output_type": "stream",
     "text": [
      "366651it [00:00, 619115.00it/s]\n"
     ]
    },
    {
     "name": "stdout",
     "output_type": "stream",
     "text": [
      "processing:  stack-exchange-politeness-corpus\n"
     ]
    },
    {
     "name": "stderr",
     "output_type": "stream",
     "text": [
      "13044it [00:00, 435704.17it/s]\n"
     ]
    },
    {
     "name": "stdout",
     "output_type": "stream",
     "text": [
      "processing:  supreme-corpus\n"
     ]
    },
    {
     "name": "stderr",
     "output_type": "stream",
     "text": [
      "3973399it [00:12, 326408.31it/s]\n"
     ]
    },
    {
     "name": "stdout",
     "output_type": "stream",
     "text": [
      "processing:  switchboard-corpus\n"
     ]
    },
    {
     "name": "stderr",
     "output_type": "stream",
     "text": [
      "164508it [00:00, 460488.28it/s]\n"
     ]
    },
    {
     "name": "stdout",
     "output_type": "stream",
     "text": [
      "processing:  switchboard-processed-corpus\n"
     ]
    },
    {
     "name": "stderr",
     "output_type": "stream",
     "text": [
      "107610it [00:00, 345425.39it/s]\n"
     ]
    },
    {
     "name": "stdout",
     "output_type": "stream",
     "text": [
      "processing:  tennis-corpus\n"
     ]
    },
    {
     "name": "stderr",
     "output_type": "stream",
     "text": [
      "619334it [00:01, 492314.08it/s]\n"
     ]
    },
    {
     "name": "stdout",
     "output_type": "stream",
     "text": [
      "processing:  wiki-corpus\n"
     ]
    },
    {
     "name": "stderr",
     "output_type": "stream",
     "text": [
      "619334it [00:01, 497104.94it/s]\n"
     ]
    },
    {
     "name": "stdout",
     "output_type": "stream",
     "text": [
      "processing:  wiki-politeness-annotated\n"
     ]
    },
    {
     "name": "stderr",
     "output_type": "stream",
     "text": [
      "8655it [00:00, 392769.28it/s]\n"
     ]
    },
    {
     "name": "stdout",
     "output_type": "stream",
     "text": [
      "processing:  wikiconv-corpus\n"
     ]
    },
    {
     "name": "stderr",
     "output_type": "stream",
     "text": [
      "8655it [00:00, 406468.49it/s]\n"
     ]
    },
    {
     "name": "stdout",
     "output_type": "stream",
     "text": [
      "processing:  wikipedia-politeness-corpus\n"
     ]
    },
    {
     "name": "stderr",
     "output_type": "stream",
     "text": [
      "8655it [00:00, 398481.90it/s]\n"
     ]
    },
    {
     "name": "stdout",
     "output_type": "stream",
     "text": [
      "processing:  winning-args-corpus\n"
     ]
    },
    {
     "name": "stderr",
     "output_type": "stream",
     "text": [
      "1599112it [00:04, 320699.05it/s]\n"
     ]
    },
    {
     "name": "stdout",
     "output_type": "stream",
     "text": [
      "processing:  wiki-articles-for-deletion-corpus\n"
     ]
    },
    {
     "name": "stderr",
     "output_type": "stream",
     "text": [
      "8125052it [00:23, 349238.39it/s]\n"
     ]
    },
    {
     "name": "stdout",
     "output_type": "stream",
     "text": [
      "processing:  casino-corpus\n"
     ]
    },
    {
     "name": "stderr",
     "output_type": "stream",
     "text": [
      "25613it [00:00, 568039.19it/s]\n"
     ]
    },
    {
     "name": "stdout",
     "output_type": "stream",
     "text": [
      "processing:  wiki-sampled-en-corpus\n"
     ]
    },
    {
     "name": "stderr",
     "output_type": "stream",
     "text": [
      "77576it [00:00, 318307.40it/s]\n"
     ]
    },
    {
     "name": "stdout",
     "output_type": "stream",
     "text": [
      "processing:  wiki-sampled-zh-corpus\n"
     ]
    },
    {
     "name": "stderr",
     "output_type": "stream",
     "text": [
      "13600it [00:00, 286261.82it/s]\n"
     ]
    }
   ],
   "source": [
    "raw_text_file_trim = 'datasets/convokit/convokit-all-raw-text-trim.txt'\n",
    "with open(raw_text_file_trim, 'w') as raw_text_f:\n",
    "    for corpus_name in corpus_names:\n",
    "        input_file = f\"datasets/convokit/convokit-{corpus_name}.txt\"\n",
    "        if not os.path.exists(input_file):\n",
    "            print('missing', input_file)\n",
    "            continue\n",
    "        print('processing: ', corpus_name)\n",
    "        with open(input_file, 'r') as infile:\n",
    "            for line in tqdm(infile):\n",
    "                trimed = []\n",
    "                for item in line.split(' '):\n",
    "                    if item in less_freq_vocab:\n",
    "                        trimed.append(less_freq_vocab[item])\n",
    "                    else:\n",
    "                        trimed.append(item)\n",
    "                raw_text_f.write(\" \".join(trimed))"
   ]
  },
  {
   "cell_type": "code",
   "execution_count": null,
   "id": "447ad371-9c07-456f-933a-b6025e106952",
   "metadata": {},
   "outputs": [],
   "source": [
    "import string\n",
    "print(string.punct)"
   ]
  },
  {
   "cell_type": "code",
   "execution_count": 75,
   "id": "4fe634d3-2bf6-4625-acd4-ed091b783f46",
   "metadata": {},
   "outputs": [
    {
     "name": "stderr",
     "output_type": "stream",
     "text": [
      "35211774it [23:55, 24526.60it/s]\n"
     ]
    }
   ],
   "source": [
    "# copy all raw text into one text\n",
    "raw_text_toknenized = 'datasets/convokit/convokit-all-raw-text-tokenized.txt'\n",
    "with open('datasets/convokit/convokit-all-raw-text-trim.txt', 'r') as raw_text_f:\n",
    "    texts = raw_text_f.readlines()\n",
    "    docs = nlp.tokenizer.pipe(texts)\n",
    "    count = 0\n",
    "    with open(raw_text_toknenized, 'w') as raw_text_ff:\n",
    "        for doc in tqdm(docs):\n",
    "            cleaned_tokens = [token.text if token.is_alpha or token.is_punct or token.is_digit else ' ' for token in doc]\n",
    "            cleaned_text = re.sub(r'[^\\w\\s.,!?;]', ' ', ' '.join(cleaned_tokens))\n",
    "            raw_text_ff.write(\" \".join(cleaned_text.split()) + \"\\n\")"
   ]
  },
  {
   "cell_type": "code",
   "execution_count": 81,
   "id": "0a501902-5e54-4191-82de-d977269f1c9c",
   "metadata": {},
   "outputs": [
    {
     "name": "stderr",
     "output_type": "stream",
     "text": [
      "35211774it [01:15, 468938.26it/s]\n"
     ]
    }
   ],
   "source": [
    "vocab = defaultdict(int)\n",
    "with open('datasets/convokit/convokit-all-raw-text-tokenized.txt', 'r') as infile:\n",
    "    for line in tqdm(infile):\n",
    "        for item in line.strip().split(' '):\n",
    "            vocab[item] += 1\n",
    "sorted_vocab = sorted(vocab.items(), key=lambda item: item[1], reverse=True)\n",
    "with open(raw_text_vocab_tokenized, \"w\") as vocab_file:\n",
    "    for word, count in sorted_vocab:\n",
    "        json.dump({word:count}, vocab_file)\n",
    "        vocab_file.write('\\n')"
   ]
  },
  {
   "cell_type": "code",
   "execution_count": 86,
   "id": "a35c542b-6a6a-42a5-a4e5-4dec63e19daf",
   "metadata": {},
   "outputs": [],
   "source": [
    "less_freq_vocab = {_[0]:\"UNK\" for _ in sorted_vocab if _[1] <=20 }"
   ]
  },
  {
   "cell_type": "code",
   "execution_count": 87,
   "id": "8cc45f37-5574-4397-815c-33dfe45a6bd7",
   "metadata": {},
   "outputs": [
    {
     "name": "stdout",
     "output_type": "stream",
     "text": [
      "223611\n",
      "214033\n",
      "205764\n",
      "203813\n",
      "201653\n",
      "200465\n",
      "99368\n"
     ]
    }
   ],
   "source": [
    "print(len(sorted_vocab))\n",
    "print(len(sorted_vocab) - len([_ for _ in sorted_vocab if _[1] == 1]))\n",
    "print(len(sorted_vocab) - len([_ for _ in sorted_vocab if _[1] <= 2]))\n",
    "print(len(sorted_vocab) - len([_ for _ in sorted_vocab if _[1] <= 3]))\n",
    "print(len(sorted_vocab) - len([_ for _ in sorted_vocab if _[1] <= 4]))\n",
    "print(len(sorted_vocab) - len([_ for _ in sorted_vocab if _[1] <= 5]))\n",
    "print(len(sorted_vocab) - len([_ for _ in sorted_vocab if _[1] <= 20]))"
   ]
  },
  {
   "cell_type": "code",
   "execution_count": 89,
   "id": "3d4ca00b-b4ea-4298-af81-3984c9b9b1c8",
   "metadata": {},
   "outputs": [
    {
     "name": "stderr",
     "output_type": "stream",
     "text": [
      "49it [00:00, 16355.32it/s]"
     ]
    },
    {
     "name": "stdout",
     "output_type": "stream",
     "text": [
      "['can', 'you', 'stick', 'this', 'flag', 'up', 'in', 'the', 'group', 'of', 'UNK', 'above', '?']\n",
      "can you stick this flag up in the group of UNK above ?\n",
      "\n",
      "0 can you stick this flag up in the group of UNK above ?\n",
      "\n",
      "['careful', ',', 'your', 'files', 'are', 'out', 'of', 'sync', '.']\n",
      "careful , your files are out of sync .\n",
      "\n",
      "['run', 'scons', 'twice', 'again', '.']\n",
      "run scons twice again .\n",
      "\n",
      "['i', 'would', 'love', 'to', 'see', 'this', 'function', 'as', 'minimal', 'as', 'possible', '.']\n",
      "i would love to see this function as minimal as possible .\n",
      "\n",
      "['can', 'UNK', 'takes', 'UNK', 'as', 'an', 'argument', 'to', 'UNK', 'to', 'make', 'calling', 'it', 'even', 'simpler', '.']\n",
      "can UNK takes UNK as an argument to UNK to make calling it even simpler .\n",
      "\n",
      "['and', 'can', 'it', 'call', 'UNK', 'directly', '?']\n",
      "and can it call UNK directly ?\n",
      "\n",
      "['that', 'way', ',', 'we', 'can', 'change', 'UNK', 'without', 'updating', 'gcl', ',', 'which', 'might', 'live', 'on', 'a', 'different', 'repository', '.']\n",
      "that way , we can change UNK without updating gcl , which might live on a different repository .\n",
      "\n",
      "['is', 'this', 'function', 'needed', ',', 'is', 'this', 'only', 'called', 'by', 'UNKlgtm', ',', 'but', 'i', 'think', 'it', 'more', 'consistent', 'with', 'the', 'rest', 'of', 'the', 'code', 'to', 'not', 'add', 'the', 'extra', 'brackets']\n",
      "is this function needed , is this only called by UNKlgtm , but i think it more consistent with the rest of the code to not add the extra brackets\n",
      "\n",
      "['just', 'curious', 'in', 'general', 'we', 'should', 'include', 'the', 'system', 'headers', 'before', 'our', 'own', 'headers', '.']\n",
      "just curious in general we should include the system headers before our own headers .\n",
      "\n",
      "['but', 'we', 'need', 'to', 'make', 'an', 'exception', 'to', 'get', 'the', 'definition', 'of', 'the', 'macro', '.']\n",
      "but we need to make an exception to get the definition of the macro .\n",
      "\n",
      "['is', 'the', 'header', 'that', 'defines', 'UNKor', 'should', 'we', 'use', 'a', 'smaller', 'header', 'such', 'as', 'UNKwe', 'should', 'return', 'false', 'if', 'this', 'is', 'false', '.']\n",
      "is the header that defines UNKor should we use a smaller header such as UNKwe should return false if this is false .\n",
      "\n",
      "['otherwise', 'it', 'a', 'buffer', 'overflow', '.']\n",
      "otherwise it a buffer overflow .\n",
      "\n",
      "['would', 'notreached', 'be', 'better', '?']\n",
      "would notreached be better ?\n",
      "\n",
      "['i', 'not', 'sure', 'if', 'we', 'need', 'to', 'do', 'here', '.']\n",
      "i not sure if we need to do here .\n",
      "\n",
      "['it', 'be', 'useful', 'only', 'if', 'is', '0', '.']\n",
      "it be useful only if is 0 .\n",
      "\n",
      "['let', 'replace', 'this', 'block', 'comment', 'with', 'something', 'like', 'this', 'this', 'code', 'does', 'work', 'on', 'because', 'UNK', 'and', 'UNK', 'are', 'not', 'supported', 'on', 'windows', '2000', '.']\n",
      "let replace this block comment with something like this this code does work on because UNK and UNK are not supported on windows 2000 .\n",
      "\n",
      "['UNK', 'allows', 'the', 'import', 'of', 'an', 'unencrypted', 'key', '.']\n",
      "UNK allows the import of an unencrypted key .\n",
      "\n",
      "['on', 'we', 'need', 'to', 'use', 'a', 'cumbersome', 'UNK', 'key', 'procedure', 'UNK', 'allows', 'keys', 'longer', 'than', '16', 'bytes', '.']\n",
      "on we need to use a cumbersome UNK key procedure UNK allows keys longer than 16 bytes .\n",
      "\n",
      "['i', 'will', 'close', 'bug']\n",
      "i will close bug\n",
      "\n",
      "['we', 'should', 'take', 'care', 'of', 'this', 'todo', 'now', '.']\n",
      "we should take care of this todo now .\n",
      "\n",
      "['i', 'see', 'what', 'needs', 'to', 'be', 'done', 'here', '.']\n",
      "i see what needs to be done here .\n",
      "\n",
      "['nit', 'msdn', 'example', 'code', 'passes', '0', 'instead', 'of', 'null', 'here', 'i', 'believe', 'it', 'because', 'UNK', 'is', 'not', 'a', 'pointer', '.']\n",
      "nit msdn example code passes 0 instead of null here i believe it because UNK is not a pointer .\n",
      "\n",
      "['it', 'is', 'defined', 'as', 'UNKnit', 'your', 'spacing', 'looks', 'off', 'here', '.']\n",
      "it is defined as UNKnit your spacing looks off here .\n",
      "\n",
      "['is', 'it', 'possible', 'you', 'using', 'a', 'tab', '?']\n",
      "is it possible you using a tab ?\n",
      "\n",
      "['i', 'think', 'it', 'would', 'be', 'easier', 'for', 'delegates', 'if', 'showcontextmenu', 'returned', 'a', 'boolean', 'indicating', 'whether', 'it', 'has', 'a', 'submenu', '.']\n",
      "i think it would be easier for delegates if showcontextmenu returned a boolean indicating whether it has a submenu .\n",
      "\n",
      "['that', 'way', 'there', 'is', 'yet', 'another', 'UNK', 'method', '.']\n",
      "that way there is yet another UNK method .\n",
      "\n",
      "['if', 'showcontextmenu', 'returned', 'false', 'then', 'accept', 'it', '.']\n",
      "if showcontextmenu returned false then accept it .\n",
      "\n",
      "['done', '.']\n",
      "done .\n",
      "\n",
      "['nit', 'same', 'nit', 'as', 'earlier', ',', 'your', 'spacing', 'looks', 'off', '.']\n",
      "nit same nit as earlier , your spacing looks off .\n",
      "\n",
      "['also', ',', 'no', 'space', 'after', 'the', 'openning', 'of', 'the', 'if', 'and', 'closing', ',', 'eg', 'if', 'UNK', '...']\n",
      "also , no space after the openning of the if and closing , eg if UNK ...\n",
      "\n",
      "['it', 'looks', 'like', 'you', 'removed', 'code', 'to', 'show', 'a', 'context', 'menu', 'on', 'menu', 'items', '.']\n",
      "it looks like you removed code to show a context menu on menu items .\n",
      "\n",
      "['this', 'is', 'used', 'for', 'the', 'folder', 'submenus', 'in', 'the', 'bookmark', 'bar', '.']\n",
      "this is used for the folder submenus in the bookmark bar .\n",
      "\n",
      "['is', 'this', 'intentional', '?']\n",
      "is this intentional ?\n",
      "\n",
      "['i', 'do', 'think', 'we', 'want', 'to', 'do', 'this', '.']\n",
      "i do think we want to do this .\n",
      "\n",
      "['are', 'you', 'sure', 'this', 'is', 'the', 'right', 'filename', '?']\n",
      "are you sure this is the right filename ?\n",
      "\n",
      "['i', 'thought', 'it', 'was', 'UNKUNK', 'sounds', 'about', 'right', '.']\n",
      "i thought it was UNKUNK sounds about right .\n",
      "\n",
      "['there', 'are', 'some', 'UNK', 'functions', 'that', 'can', 'be', 'used', 'to', 'pull', 'things', 'off', 'the', 'command', 'line', 'with', 'automatic', 'error', 'checking', 'and', 'help', 'text', 'and', 'the', 'like', '.']\n",
      "there are some UNK functions that can be used to pull things off the command line with automatic error checking and help text and the like .\n",
      "\n",
      "['what', 'you', 'have', 'is', 'fine', ',', 'but', 'if', 'you', 'want', 'to', 'start', 'doing', 'things', 'in', 'the', 'future', 'like', 'restricting', 'mode', 'to', 'a', 'set', 'of', 'known', ',', 'legal', 'input', 'values', ',', 'the', 'code', 'already', 'exists', 'for', 'that', 'and', 'you', 'do', 'need', 'to', 'invent', 'it', '.']\n",
      "what you have is fine , but if you want to start doing things in the future like restricting mode to a set of known , legal input values , the code already exists for that and you do need to invent it .\n",
      "\n",
      "['thanks', 'for', 'the', 'tip', '.']\n",
      "thanks for the tip .\n",
      "\n",
      "['i', 'think', 'i', 'add', 'that', 'in', 'a', 'future', 'revision', 'so', 'you', 'do', 'have', 'to', 'keep', 'reviewing', 'changes', '.']\n",
      "i think i add that in a future revision so you do have to keep reviewing changes .\n",
      "\n",
      "['you', 'can', 'get', 'the', 'string', 'expansion', 'directly', 'using', 'UNK', 'UNK', 'sadly', ',', 'that', 'expands', 'to', 'UNK']\n",
      "you can get the string expansion directly using UNK UNK sadly , that expands to UNK\n",
      "\n",
      "['there', 'a', 'number', 'of', 'places', 'where', 'i', 'want', 'to', 'use', 'these', 'variables', ',', 'but', 'without', 'the', 'UNK', 'prefix', '.']\n",
      "there a number of places where i want to use these variables , but without the UNK prefix .\n",
      "\n",
      "['so', 'far', ',', 'i', 'had', 'no', 'luck', 'with', 'experiments', 'UNK', 'is', 'close', ',', 'but', 'i', 'want', 'an', 'abspath', 'UNK', 'gives', 'the', 'abspath', 'to', 'the', 'UNK', 'UNK', 'gives', 'the', 'build', 'dir', 'there', 'is', 'no', 'UNK', 'or', 'UNK', 'or', 'any', 'such', 'thing', 'this', 'is', 'one', 'of', 'the', 'more', 'common', 'issues', 'i', 'had', 'with', 'writing', 'scons', 'scripts', 'mostly', 'when', 'writing', 'my', 'own', 'UNK']\n",
      "so far , i had no luck with experiments UNK is close , but i want an abspath UNK gives the abspath to the UNK UNK gives the build dir there is no UNK or UNK or any such thing this is one of the more common issues i had with writing scons scripts mostly when writing my own UNK\n",
      "\n",
      "['i', 'ca', 'help', 'but', 'feel', 'there', 'must', 'be', 'an', 'easier', 'way', 'to', 'get', 'the', 'src', 'path', 'from', 'the', 'build', 'output', 'path', '.']\n",
      "i ca help but feel there must be an easier way to get the src path from the build output path .\n",
      "\n",
      "['good', 'start', ';', 'nothing', 'obviously', 'wrong', 'off', 'the', 'top', 'of', 'my', 'head', '.']\n",
      "good start ; nothing obviously wrong off the top of my head .\n",
      "\n",
      "['swing', 'by', 'if', 'you', 'want', 'some', 'additional', 'eyes', 'debugging', '.']\n",
      "swing by if you want some additional eyes debugging .\n",
      "\n",
      "['there', 'are', 'a', 'few', 'problems', 'with', 'writing', 'a', 'scanner', 'for', 'this', '.']\n",
      "there are a few problems with writing a scanner for this .\n",
      "\n",
      "['1', '.', 'path', 'passed', 'into', 'UNK', 'is', 'empty', '.']\n",
      "1 . path passed into UNK is empty .\n",
      "\n",
      "['i', 'think', 'i', 'can', 'use', 'UNK', 'UNK', 'passed', 'to', 'scanner', ',', 'but', 'i', 'have', 'had', 'much', 'luck', '.']\n",
      "i think i can use UNK UNK passed to scanner , but i have had much luck .\n",
      "\n",
      "['2', '.', 'more', 'importantly', ',', 'these', 'UNK', 'files', 'depend', 'on', 'generated', 'files', 'that', 'may', 'not', 'exist', 'yet', '.']\n",
      "2 . more importantly , these UNK files depend on generated files that may not exist yet .\n",
      "\n"
     ]
    },
    {
     "name": "stderr",
     "output_type": "stream",
     "text": [
      "\n"
     ]
    }
   ],
   "source": [
    "train_file = 'datasets/convokit/convokit-all-train.txt'\n",
    "valid_file = 'datasets/convokit/convokit-all-valid.txt'\n",
    "test_file = 'datasets/convokit/convokit-all-test.txt'\n",
    "\n",
    "random.seed(17)\n",
    "if not os.path.exists('datasets/convokit/convokit-all-raw-text-tokenized.txt'):\n",
    "    print('missing', 'datasets/convokit/convokit-all-raw-text-tokenized.txt')\n",
    "vocab = defaultdict(int)\n",
    "count = 0\n",
    "with open(train_file, 'w') as train_out, open(valid_file, 'w') as valid_out, open(test_file, 'w') as test_out:\n",
    "    with open('datasets/convokit/convokit-all-raw-text-tokenized.txt', 'r') as infile:\n",
    "        for ind, line in tqdm(enumerate(infile)):\n",
    "            effective_tokens = []\n",
    "            for item in line.strip().split(' '):\n",
    "                if item in less_freq_vocab:\n",
    "                    effective_tokens.append(less_freq_vocab[item])\n",
    "                else:\n",
    "                    effective_tokens.append(item)\n",
    "            print(effective_tokens)\n",
    "            print(\" \".join(effective_tokens) + '\\n')\n",
    "            count += 1\n",
    "            if count == 50:\n",
    "                break\n",
    "            rand = random.random()  # Generate a random number between 0 and 1\n",
    "            if rand < 0.98:  # 98% probability for train\n",
    "                train_out.write(\" \".join(effective_tokens) + '\\n')\n",
    "                for item in line.split():\n",
    "                    vocab[item] += 1\n",
    "            elif rand < 0.99:  # 1% probability for valid\n",
    "                valid_out.write(\" \".join(effective_tokens) + '\\n')\n",
    "            else:  # 1% probability for test\n",
    "                test_out.write(\" \".join(effective_tokens) + '\\n')\n",
    "            if ind % 2000 == 0:\n",
    "                print(ind, line)\n",
    "sorted_vocab = sorted(vocab.items(), key=lambda item: item[1], reverse=True)\n",
    "with open(\"datasets/convokit/convokit-all-vocab.json\", \"w\") as vocab_file:\n",
    "    for word,count in sorted_vocab:\n",
    "        json.dump({word:count}, vocab_file)\n",
    "        vocab_file.write('\\n')"
   ]
  },
  {
   "cell_type": "code",
   "execution_count": 40,
   "id": "16e44860-cdfa-4d84-9512-543d2c2e3aad",
   "metadata": {},
   "outputs": [
    {
     "name": "stderr",
     "output_type": "stream",
     "text": [
      "719768it [07:05, 1692.58it/s]\n"
     ]
    },
    {
     "ename": "KeyboardInterrupt",
     "evalue": "",
     "output_type": "error",
     "traceback": [
      "\u001b[0;31m---------------------------------------------------------------------------\u001b[0m",
      "\u001b[0;31mKeyboardInterrupt\u001b[0m                         Traceback (most recent call last)",
      "Cell \u001b[0;32mIn[40], line 8\u001b[0m\n\u001b[1;32m      6\u001b[0m \u001b[38;5;28;01mwith\u001b[39;00m \u001b[38;5;28mopen\u001b[39m(raw_text_file, \u001b[38;5;124m'\u001b[39m\u001b[38;5;124mr\u001b[39m\u001b[38;5;124m'\u001b[39m) \u001b[38;5;28;01mas\u001b[39;00m infile:\n\u001b[1;32m      7\u001b[0m     \u001b[38;5;28;01mfor\u001b[39;00m line \u001b[38;5;129;01min\u001b[39;00m tqdm(infile):\n\u001b[0;32m----> 8\u001b[0m         tokens \u001b[38;5;241m=\u001b[39m \u001b[43mclean_text\u001b[49m\u001b[43m(\u001b[49m\u001b[43mline\u001b[49m\u001b[43m)\u001b[49m\n\u001b[1;32m      9\u001b[0m         \u001b[38;5;28;01mfor\u001b[39;00m item \u001b[38;5;129;01min\u001b[39;00m tokens:\n\u001b[1;32m     10\u001b[0m             vocab[item] \u001b[38;5;241m+\u001b[39m\u001b[38;5;241m=\u001b[39m \u001b[38;5;241m1\u001b[39m\n",
      "Cell \u001b[0;32mIn[39], line 2\u001b[0m, in \u001b[0;36mclean_text\u001b[0;34m(text)\u001b[0m\n\u001b[1;32m      1\u001b[0m \u001b[38;5;28;01mdef\u001b[39;00m \u001b[38;5;21mclean_text\u001b[39m(text):\n\u001b[0;32m----> 2\u001b[0m     doc \u001b[38;5;241m=\u001b[39m \u001b[43mnlp\u001b[49m\u001b[43m(\u001b[49m\u001b[43mtext\u001b[49m\u001b[43m)\u001b[49m\n\u001b[1;32m      3\u001b[0m     cleaned_tokens \u001b[38;5;241m=\u001b[39m [token\u001b[38;5;241m.\u001b[39mtext \u001b[38;5;28;01mif\u001b[39;00m token\u001b[38;5;241m.\u001b[39mis_alpha \u001b[38;5;129;01mor\u001b[39;00m token\u001b[38;5;241m.\u001b[39mis_punct \u001b[38;5;129;01mor\u001b[39;00m token\u001b[38;5;241m.\u001b[39mis_digit \u001b[38;5;28;01melse\u001b[39;00m \u001b[38;5;124m'\u001b[39m\u001b[38;5;124m \u001b[39m\u001b[38;5;124m'\u001b[39m \u001b[38;5;28;01mfor\u001b[39;00m token \u001b[38;5;129;01min\u001b[39;00m doc]\n\u001b[1;32m      4\u001b[0m     cleaned_text \u001b[38;5;241m=\u001b[39m \u001b[38;5;124m\"\u001b[39m\u001b[38;5;124m \u001b[39m\u001b[38;5;124m\"\u001b[39m\u001b[38;5;241m.\u001b[39mjoin(cleaned_tokens)\n",
      "File \u001b[0;32m/opt/anaconda3/envs/nlp-25/lib/python3.10/site-packages/spacy/language.py:1052\u001b[0m, in \u001b[0;36mLanguage.__call__\u001b[0;34m(self, text, disable, component_cfg)\u001b[0m\n\u001b[1;32m   1050\u001b[0m     error_handler \u001b[38;5;241m=\u001b[39m proc\u001b[38;5;241m.\u001b[39mget_error_handler()\n\u001b[1;32m   1051\u001b[0m \u001b[38;5;28;01mtry\u001b[39;00m:\n\u001b[0;32m-> 1052\u001b[0m     doc \u001b[38;5;241m=\u001b[39m \u001b[43mproc\u001b[49m\u001b[43m(\u001b[49m\u001b[43mdoc\u001b[49m\u001b[43m,\u001b[49m\u001b[43m \u001b[49m\u001b[38;5;241;43m*\u001b[39;49m\u001b[38;5;241;43m*\u001b[39;49m\u001b[43mcomponent_cfg\u001b[49m\u001b[38;5;241;43m.\u001b[39;49m\u001b[43mget\u001b[49m\u001b[43m(\u001b[49m\u001b[43mname\u001b[49m\u001b[43m,\u001b[49m\u001b[43m \u001b[49m\u001b[43m{\u001b[49m\u001b[43m}\u001b[49m\u001b[43m)\u001b[49m\u001b[43m)\u001b[49m  \u001b[38;5;66;03m# type: ignore[call-arg]\u001b[39;00m\n\u001b[1;32m   1053\u001b[0m \u001b[38;5;28;01mexcept\u001b[39;00m \u001b[38;5;167;01mKeyError\u001b[39;00m \u001b[38;5;28;01mas\u001b[39;00m e:\n\u001b[1;32m   1054\u001b[0m     \u001b[38;5;66;03m# This typically happens if a component is not initialized\u001b[39;00m\n\u001b[1;32m   1055\u001b[0m     \u001b[38;5;28;01mraise\u001b[39;00m \u001b[38;5;167;01mValueError\u001b[39;00m(Errors\u001b[38;5;241m.\u001b[39mE109\u001b[38;5;241m.\u001b[39mformat(name\u001b[38;5;241m=\u001b[39mname)) \u001b[38;5;28;01mfrom\u001b[39;00m \u001b[38;5;21;01me\u001b[39;00m\n",
      "File \u001b[0;32m/opt/anaconda3/envs/nlp-25/lib/python3.10/site-packages/spacy/pipeline/trainable_pipe.pyx:52\u001b[0m, in \u001b[0;36mspacy.pipeline.trainable_pipe.TrainablePipe.__call__\u001b[0;34m()\u001b[0m\n",
      "File \u001b[0;32m/opt/anaconda3/envs/nlp-25/lib/python3.10/site-packages/spacy/pipeline/tok2vec.py:126\u001b[0m, in \u001b[0;36mTok2Vec.predict\u001b[0;34m(self, docs)\u001b[0m\n\u001b[1;32m    124\u001b[0m     width \u001b[38;5;241m=\u001b[39m \u001b[38;5;28mself\u001b[39m\u001b[38;5;241m.\u001b[39mmodel\u001b[38;5;241m.\u001b[39mget_dim(\u001b[38;5;124m\"\u001b[39m\u001b[38;5;124mnO\u001b[39m\u001b[38;5;124m\"\u001b[39m)\n\u001b[1;32m    125\u001b[0m     \u001b[38;5;28;01mreturn\u001b[39;00m [\u001b[38;5;28mself\u001b[39m\u001b[38;5;241m.\u001b[39mmodel\u001b[38;5;241m.\u001b[39mops\u001b[38;5;241m.\u001b[39malloc((\u001b[38;5;241m0\u001b[39m, width)) \u001b[38;5;28;01mfor\u001b[39;00m doc \u001b[38;5;129;01min\u001b[39;00m docs]\n\u001b[0;32m--> 126\u001b[0m tokvecs \u001b[38;5;241m=\u001b[39m \u001b[38;5;28;43mself\u001b[39;49m\u001b[38;5;241;43m.\u001b[39;49m\u001b[43mmodel\u001b[49m\u001b[38;5;241;43m.\u001b[39;49m\u001b[43mpredict\u001b[49m\u001b[43m(\u001b[49m\u001b[43mdocs\u001b[49m\u001b[43m)\u001b[49m\n\u001b[1;32m    127\u001b[0m \u001b[38;5;28;01mreturn\u001b[39;00m tokvecs\n",
      "File \u001b[0;32m/opt/anaconda3/envs/nlp-25/lib/python3.10/site-packages/thinc/model.py:334\u001b[0m, in \u001b[0;36mModel.predict\u001b[0;34m(self, X)\u001b[0m\n\u001b[1;32m    330\u001b[0m \u001b[38;5;28;01mdef\u001b[39;00m \u001b[38;5;21mpredict\u001b[39m(\u001b[38;5;28mself\u001b[39m, X: InT) \u001b[38;5;241m-\u001b[39m\u001b[38;5;241m>\u001b[39m OutT:\n\u001b[1;32m    331\u001b[0m \u001b[38;5;250m    \u001b[39m\u001b[38;5;124;03m\"\"\"Call the model's `forward` function with `is_train=False`, and return\u001b[39;00m\n\u001b[1;32m    332\u001b[0m \u001b[38;5;124;03m    only the output, instead of the `(output, callback)` tuple.\u001b[39;00m\n\u001b[1;32m    333\u001b[0m \u001b[38;5;124;03m    \"\"\"\u001b[39;00m\n\u001b[0;32m--> 334\u001b[0m     \u001b[38;5;28;01mreturn\u001b[39;00m \u001b[38;5;28;43mself\u001b[39;49m\u001b[38;5;241;43m.\u001b[39;49m\u001b[43m_func\u001b[49m\u001b[43m(\u001b[49m\u001b[38;5;28;43mself\u001b[39;49m\u001b[43m,\u001b[49m\u001b[43m \u001b[49m\u001b[43mX\u001b[49m\u001b[43m,\u001b[49m\u001b[43m \u001b[49m\u001b[43mis_train\u001b[49m\u001b[38;5;241;43m=\u001b[39;49m\u001b[38;5;28;43;01mFalse\u001b[39;49;00m\u001b[43m)\u001b[49m[\u001b[38;5;241m0\u001b[39m]\n",
      "File \u001b[0;32m/opt/anaconda3/envs/nlp-25/lib/python3.10/site-packages/thinc/layers/chain.py:54\u001b[0m, in \u001b[0;36mforward\u001b[0;34m(model, X, is_train)\u001b[0m\n\u001b[1;32m     52\u001b[0m callbacks \u001b[38;5;241m=\u001b[39m []\n\u001b[1;32m     53\u001b[0m \u001b[38;5;28;01mfor\u001b[39;00m layer \u001b[38;5;129;01min\u001b[39;00m model\u001b[38;5;241m.\u001b[39mlayers:\n\u001b[0;32m---> 54\u001b[0m     Y, inc_layer_grad \u001b[38;5;241m=\u001b[39m \u001b[43mlayer\u001b[49m\u001b[43m(\u001b[49m\u001b[43mX\u001b[49m\u001b[43m,\u001b[49m\u001b[43m \u001b[49m\u001b[43mis_train\u001b[49m\u001b[38;5;241;43m=\u001b[39;49m\u001b[43mis_train\u001b[49m\u001b[43m)\u001b[49m\n\u001b[1;32m     55\u001b[0m     callbacks\u001b[38;5;241m.\u001b[39mappend(inc_layer_grad)\n\u001b[1;32m     56\u001b[0m     X \u001b[38;5;241m=\u001b[39m Y\n",
      "File \u001b[0;32m/opt/anaconda3/envs/nlp-25/lib/python3.10/site-packages/thinc/model.py:310\u001b[0m, in \u001b[0;36mModel.__call__\u001b[0;34m(self, X, is_train)\u001b[0m\n\u001b[1;32m    307\u001b[0m \u001b[38;5;28;01mdef\u001b[39;00m \u001b[38;5;21m__call__\u001b[39m(\u001b[38;5;28mself\u001b[39m, X: InT, is_train: \u001b[38;5;28mbool\u001b[39m) \u001b[38;5;241m-\u001b[39m\u001b[38;5;241m>\u001b[39m Tuple[OutT, Callable]:\n\u001b[1;32m    308\u001b[0m \u001b[38;5;250m    \u001b[39m\u001b[38;5;124;03m\"\"\"Call the model's `forward` function, returning the output and a\u001b[39;00m\n\u001b[1;32m    309\u001b[0m \u001b[38;5;124;03m    callback to compute the gradients via backpropagation.\"\"\"\u001b[39;00m\n\u001b[0;32m--> 310\u001b[0m     \u001b[38;5;28;01mreturn\u001b[39;00m \u001b[38;5;28;43mself\u001b[39;49m\u001b[38;5;241;43m.\u001b[39;49m\u001b[43m_func\u001b[49m\u001b[43m(\u001b[49m\u001b[38;5;28;43mself\u001b[39;49m\u001b[43m,\u001b[49m\u001b[43m \u001b[49m\u001b[43mX\u001b[49m\u001b[43m,\u001b[49m\u001b[43m \u001b[49m\u001b[43mis_train\u001b[49m\u001b[38;5;241;43m=\u001b[39;49m\u001b[43mis_train\u001b[49m\u001b[43m)\u001b[49m\n",
      "File \u001b[0;32m/opt/anaconda3/envs/nlp-25/lib/python3.10/site-packages/thinc/layers/chain.py:54\u001b[0m, in \u001b[0;36mforward\u001b[0;34m(model, X, is_train)\u001b[0m\n\u001b[1;32m     52\u001b[0m callbacks \u001b[38;5;241m=\u001b[39m []\n\u001b[1;32m     53\u001b[0m \u001b[38;5;28;01mfor\u001b[39;00m layer \u001b[38;5;129;01min\u001b[39;00m model\u001b[38;5;241m.\u001b[39mlayers:\n\u001b[0;32m---> 54\u001b[0m     Y, inc_layer_grad \u001b[38;5;241m=\u001b[39m \u001b[43mlayer\u001b[49m\u001b[43m(\u001b[49m\u001b[43mX\u001b[49m\u001b[43m,\u001b[49m\u001b[43m \u001b[49m\u001b[43mis_train\u001b[49m\u001b[38;5;241;43m=\u001b[39;49m\u001b[43mis_train\u001b[49m\u001b[43m)\u001b[49m\n\u001b[1;32m     55\u001b[0m     callbacks\u001b[38;5;241m.\u001b[39mappend(inc_layer_grad)\n\u001b[1;32m     56\u001b[0m     X \u001b[38;5;241m=\u001b[39m Y\n",
      "File \u001b[0;32m/opt/anaconda3/envs/nlp-25/lib/python3.10/site-packages/thinc/model.py:310\u001b[0m, in \u001b[0;36mModel.__call__\u001b[0;34m(self, X, is_train)\u001b[0m\n\u001b[1;32m    307\u001b[0m \u001b[38;5;28;01mdef\u001b[39;00m \u001b[38;5;21m__call__\u001b[39m(\u001b[38;5;28mself\u001b[39m, X: InT, is_train: \u001b[38;5;28mbool\u001b[39m) \u001b[38;5;241m-\u001b[39m\u001b[38;5;241m>\u001b[39m Tuple[OutT, Callable]:\n\u001b[1;32m    308\u001b[0m \u001b[38;5;250m    \u001b[39m\u001b[38;5;124;03m\"\"\"Call the model's `forward` function, returning the output and a\u001b[39;00m\n\u001b[1;32m    309\u001b[0m \u001b[38;5;124;03m    callback to compute the gradients via backpropagation.\"\"\"\u001b[39;00m\n\u001b[0;32m--> 310\u001b[0m     \u001b[38;5;28;01mreturn\u001b[39;00m \u001b[38;5;28;43mself\u001b[39;49m\u001b[38;5;241;43m.\u001b[39;49m\u001b[43m_func\u001b[49m\u001b[43m(\u001b[49m\u001b[38;5;28;43mself\u001b[39;49m\u001b[43m,\u001b[49m\u001b[43m \u001b[49m\u001b[43mX\u001b[49m\u001b[43m,\u001b[49m\u001b[43m \u001b[49m\u001b[43mis_train\u001b[49m\u001b[38;5;241;43m=\u001b[39;49m\u001b[43mis_train\u001b[49m\u001b[43m)\u001b[49m\n",
      "File \u001b[0;32m/opt/anaconda3/envs/nlp-25/lib/python3.10/site-packages/thinc/layers/with_array.py:36\u001b[0m, in \u001b[0;36mforward\u001b[0;34m(model, Xseq, is_train)\u001b[0m\n\u001b[1;32m     32\u001b[0m \u001b[38;5;28;01mdef\u001b[39;00m \u001b[38;5;21mforward\u001b[39m(\n\u001b[1;32m     33\u001b[0m     model: Model[SeqT, SeqT], Xseq: SeqT, is_train: \u001b[38;5;28mbool\u001b[39m\n\u001b[1;32m     34\u001b[0m ) \u001b[38;5;241m-\u001b[39m\u001b[38;5;241m>\u001b[39m Tuple[SeqT, Callable]:\n\u001b[1;32m     35\u001b[0m     \u001b[38;5;28;01mif\u001b[39;00m \u001b[38;5;28misinstance\u001b[39m(Xseq, Ragged):\n\u001b[0;32m---> 36\u001b[0m         \u001b[38;5;28;01mreturn\u001b[39;00m cast(Tuple[SeqT, Callable], \u001b[43m_ragged_forward\u001b[49m\u001b[43m(\u001b[49m\u001b[43mmodel\u001b[49m\u001b[43m,\u001b[49m\u001b[43m \u001b[49m\u001b[43mXseq\u001b[49m\u001b[43m,\u001b[49m\u001b[43m \u001b[49m\u001b[43mis_train\u001b[49m\u001b[43m)\u001b[49m)\n\u001b[1;32m     37\u001b[0m     \u001b[38;5;28;01melif\u001b[39;00m \u001b[38;5;28misinstance\u001b[39m(Xseq, Padded):\n\u001b[1;32m     38\u001b[0m         \u001b[38;5;28;01mreturn\u001b[39;00m cast(Tuple[SeqT, Callable], _padded_forward(model, Xseq, is_train))\n",
      "File \u001b[0;32m/opt/anaconda3/envs/nlp-25/lib/python3.10/site-packages/thinc/layers/with_array.py:91\u001b[0m, in \u001b[0;36m_ragged_forward\u001b[0;34m(model, Xr, is_train)\u001b[0m\n\u001b[1;32m     87\u001b[0m \u001b[38;5;28;01mdef\u001b[39;00m \u001b[38;5;21m_ragged_forward\u001b[39m(\n\u001b[1;32m     88\u001b[0m     model: Model[SeqT, SeqT], Xr: Ragged, is_train: \u001b[38;5;28mbool\u001b[39m\n\u001b[1;32m     89\u001b[0m ) \u001b[38;5;241m-\u001b[39m\u001b[38;5;241m>\u001b[39m Tuple[Ragged, Callable]:\n\u001b[1;32m     90\u001b[0m     layer: Model[ArrayXd, ArrayXd] \u001b[38;5;241m=\u001b[39m model\u001b[38;5;241m.\u001b[39mlayers[\u001b[38;5;241m0\u001b[39m]\n\u001b[0;32m---> 91\u001b[0m     Y, get_dX \u001b[38;5;241m=\u001b[39m \u001b[43mlayer\u001b[49m\u001b[43m(\u001b[49m\u001b[43mXr\u001b[49m\u001b[38;5;241;43m.\u001b[39;49m\u001b[43mdataXd\u001b[49m\u001b[43m,\u001b[49m\u001b[43m \u001b[49m\u001b[43mis_train\u001b[49m\u001b[43m)\u001b[49m\n\u001b[1;32m     93\u001b[0m     \u001b[38;5;28;01mdef\u001b[39;00m \u001b[38;5;21mbackprop\u001b[39m(dYr: Ragged) \u001b[38;5;241m-\u001b[39m\u001b[38;5;241m>\u001b[39m Ragged:\n\u001b[1;32m     94\u001b[0m         \u001b[38;5;28;01mreturn\u001b[39;00m Ragged(get_dX(dYr\u001b[38;5;241m.\u001b[39mdataXd), dYr\u001b[38;5;241m.\u001b[39mlengths)\n",
      "File \u001b[0;32m/opt/anaconda3/envs/nlp-25/lib/python3.10/site-packages/thinc/model.py:310\u001b[0m, in \u001b[0;36mModel.__call__\u001b[0;34m(self, X, is_train)\u001b[0m\n\u001b[1;32m    307\u001b[0m \u001b[38;5;28;01mdef\u001b[39;00m \u001b[38;5;21m__call__\u001b[39m(\u001b[38;5;28mself\u001b[39m, X: InT, is_train: \u001b[38;5;28mbool\u001b[39m) \u001b[38;5;241m-\u001b[39m\u001b[38;5;241m>\u001b[39m Tuple[OutT, Callable]:\n\u001b[1;32m    308\u001b[0m \u001b[38;5;250m    \u001b[39m\u001b[38;5;124;03m\"\"\"Call the model's `forward` function, returning the output and a\u001b[39;00m\n\u001b[1;32m    309\u001b[0m \u001b[38;5;124;03m    callback to compute the gradients via backpropagation.\"\"\"\u001b[39;00m\n\u001b[0;32m--> 310\u001b[0m     \u001b[38;5;28;01mreturn\u001b[39;00m \u001b[38;5;28;43mself\u001b[39;49m\u001b[38;5;241;43m.\u001b[39;49m\u001b[43m_func\u001b[49m\u001b[43m(\u001b[49m\u001b[38;5;28;43mself\u001b[39;49m\u001b[43m,\u001b[49m\u001b[43m \u001b[49m\u001b[43mX\u001b[49m\u001b[43m,\u001b[49m\u001b[43m \u001b[49m\u001b[43mis_train\u001b[49m\u001b[38;5;241;43m=\u001b[39;49m\u001b[43mis_train\u001b[49m\u001b[43m)\u001b[49m\n",
      "File \u001b[0;32m/opt/anaconda3/envs/nlp-25/lib/python3.10/site-packages/thinc/layers/chain.py:54\u001b[0m, in \u001b[0;36mforward\u001b[0;34m(model, X, is_train)\u001b[0m\n\u001b[1;32m     52\u001b[0m callbacks \u001b[38;5;241m=\u001b[39m []\n\u001b[1;32m     53\u001b[0m \u001b[38;5;28;01mfor\u001b[39;00m layer \u001b[38;5;129;01min\u001b[39;00m model\u001b[38;5;241m.\u001b[39mlayers:\n\u001b[0;32m---> 54\u001b[0m     Y, inc_layer_grad \u001b[38;5;241m=\u001b[39m \u001b[43mlayer\u001b[49m\u001b[43m(\u001b[49m\u001b[43mX\u001b[49m\u001b[43m,\u001b[49m\u001b[43m \u001b[49m\u001b[43mis_train\u001b[49m\u001b[38;5;241;43m=\u001b[39;49m\u001b[43mis_train\u001b[49m\u001b[43m)\u001b[49m\n\u001b[1;32m     55\u001b[0m     callbacks\u001b[38;5;241m.\u001b[39mappend(inc_layer_grad)\n\u001b[1;32m     56\u001b[0m     X \u001b[38;5;241m=\u001b[39m Y\n",
      "File \u001b[0;32m/opt/anaconda3/envs/nlp-25/lib/python3.10/site-packages/thinc/model.py:310\u001b[0m, in \u001b[0;36mModel.__call__\u001b[0;34m(self, X, is_train)\u001b[0m\n\u001b[1;32m    307\u001b[0m \u001b[38;5;28;01mdef\u001b[39;00m \u001b[38;5;21m__call__\u001b[39m(\u001b[38;5;28mself\u001b[39m, X: InT, is_train: \u001b[38;5;28mbool\u001b[39m) \u001b[38;5;241m-\u001b[39m\u001b[38;5;241m>\u001b[39m Tuple[OutT, Callable]:\n\u001b[1;32m    308\u001b[0m \u001b[38;5;250m    \u001b[39m\u001b[38;5;124;03m\"\"\"Call the model's `forward` function, returning the output and a\u001b[39;00m\n\u001b[1;32m    309\u001b[0m \u001b[38;5;124;03m    callback to compute the gradients via backpropagation.\"\"\"\u001b[39;00m\n\u001b[0;32m--> 310\u001b[0m     \u001b[38;5;28;01mreturn\u001b[39;00m \u001b[38;5;28;43mself\u001b[39;49m\u001b[38;5;241;43m.\u001b[39;49m\u001b[43m_func\u001b[49m\u001b[43m(\u001b[49m\u001b[38;5;28;43mself\u001b[39;49m\u001b[43m,\u001b[49m\u001b[43m \u001b[49m\u001b[43mX\u001b[49m\u001b[43m,\u001b[49m\u001b[43m \u001b[49m\u001b[43mis_train\u001b[49m\u001b[38;5;241;43m=\u001b[39;49m\u001b[43mis_train\u001b[49m\u001b[43m)\u001b[49m\n",
      "File \u001b[0;32m/opt/anaconda3/envs/nlp-25/lib/python3.10/site-packages/thinc/layers/chain.py:54\u001b[0m, in \u001b[0;36mforward\u001b[0;34m(model, X, is_train)\u001b[0m\n\u001b[1;32m     52\u001b[0m callbacks \u001b[38;5;241m=\u001b[39m []\n\u001b[1;32m     53\u001b[0m \u001b[38;5;28;01mfor\u001b[39;00m layer \u001b[38;5;129;01min\u001b[39;00m model\u001b[38;5;241m.\u001b[39mlayers:\n\u001b[0;32m---> 54\u001b[0m     Y, inc_layer_grad \u001b[38;5;241m=\u001b[39m \u001b[43mlayer\u001b[49m\u001b[43m(\u001b[49m\u001b[43mX\u001b[49m\u001b[43m,\u001b[49m\u001b[43m \u001b[49m\u001b[43mis_train\u001b[49m\u001b[38;5;241;43m=\u001b[39;49m\u001b[43mis_train\u001b[49m\u001b[43m)\u001b[49m\n\u001b[1;32m     55\u001b[0m     callbacks\u001b[38;5;241m.\u001b[39mappend(inc_layer_grad)\n\u001b[1;32m     56\u001b[0m     X \u001b[38;5;241m=\u001b[39m Y\n",
      "File \u001b[0;32m/opt/anaconda3/envs/nlp-25/lib/python3.10/site-packages/thinc/model.py:310\u001b[0m, in \u001b[0;36mModel.__call__\u001b[0;34m(self, X, is_train)\u001b[0m\n\u001b[1;32m    307\u001b[0m \u001b[38;5;28;01mdef\u001b[39;00m \u001b[38;5;21m__call__\u001b[39m(\u001b[38;5;28mself\u001b[39m, X: InT, is_train: \u001b[38;5;28mbool\u001b[39m) \u001b[38;5;241m-\u001b[39m\u001b[38;5;241m>\u001b[39m Tuple[OutT, Callable]:\n\u001b[1;32m    308\u001b[0m \u001b[38;5;250m    \u001b[39m\u001b[38;5;124;03m\"\"\"Call the model's `forward` function, returning the output and a\u001b[39;00m\n\u001b[1;32m    309\u001b[0m \u001b[38;5;124;03m    callback to compute the gradients via backpropagation.\"\"\"\u001b[39;00m\n\u001b[0;32m--> 310\u001b[0m     \u001b[38;5;28;01mreturn\u001b[39;00m \u001b[38;5;28;43mself\u001b[39;49m\u001b[38;5;241;43m.\u001b[39;49m\u001b[43m_func\u001b[49m\u001b[43m(\u001b[49m\u001b[38;5;28;43mself\u001b[39;49m\u001b[43m,\u001b[49m\u001b[43m \u001b[49m\u001b[43mX\u001b[49m\u001b[43m,\u001b[49m\u001b[43m \u001b[49m\u001b[43mis_train\u001b[49m\u001b[38;5;241;43m=\u001b[39;49m\u001b[43mis_train\u001b[49m\u001b[43m)\u001b[49m\n",
      "File \u001b[0;32m/opt/anaconda3/envs/nlp-25/lib/python3.10/site-packages/thinc/layers/layernorm.py:24\u001b[0m, in \u001b[0;36mforward\u001b[0;34m(model, X, is_train)\u001b[0m\n\u001b[1;32m     23\u001b[0m \u001b[38;5;28;01mdef\u001b[39;00m \u001b[38;5;21mforward\u001b[39m(model: Model[InT, InT], X: InT, is_train: \u001b[38;5;28mbool\u001b[39m) \u001b[38;5;241m-\u001b[39m\u001b[38;5;241m>\u001b[39m Tuple[InT, Callable]:\n\u001b[0;32m---> 24\u001b[0m     N, mu, var \u001b[38;5;241m=\u001b[39m \u001b[43m_get_moments\u001b[49m\u001b[43m(\u001b[49m\u001b[43mmodel\u001b[49m\u001b[38;5;241;43m.\u001b[39;49m\u001b[43mops\u001b[49m\u001b[43m,\u001b[49m\u001b[43m \u001b[49m\u001b[43mX\u001b[49m\u001b[43m)\u001b[49m\n\u001b[1;32m     25\u001b[0m     Xhat \u001b[38;5;241m=\u001b[39m (X \u001b[38;5;241m-\u001b[39m mu) \u001b[38;5;241m*\u001b[39m var \u001b[38;5;241m*\u001b[39m\u001b[38;5;241m*\u001b[39m (\u001b[38;5;241m-\u001b[39m\u001b[38;5;241m1.0\u001b[39m \u001b[38;5;241m/\u001b[39m \u001b[38;5;241m2.0\u001b[39m)\n\u001b[1;32m     26\u001b[0m     Y, backprop_rescale \u001b[38;5;241m=\u001b[39m _begin_update_scale_shift(model, Xhat)\n",
      "File \u001b[0;32m/opt/anaconda3/envs/nlp-25/lib/python3.10/site-packages/thinc/layers/layernorm.py:76\u001b[0m, in \u001b[0;36m_get_moments\u001b[0;34m(ops, X)\u001b[0m\n\u001b[1;32m     74\u001b[0m mu: Floats2d \u001b[38;5;241m=\u001b[39m X\u001b[38;5;241m.\u001b[39mmean(axis\u001b[38;5;241m=\u001b[39m\u001b[38;5;241m1\u001b[39m, keepdims\u001b[38;5;241m=\u001b[39m\u001b[38;5;28;01mTrue\u001b[39;00m)\n\u001b[1;32m     75\u001b[0m var: Floats2d \u001b[38;5;241m=\u001b[39m X\u001b[38;5;241m.\u001b[39mvar(axis\u001b[38;5;241m=\u001b[39m\u001b[38;5;241m1\u001b[39m, keepdims\u001b[38;5;241m=\u001b[39m\u001b[38;5;28;01mTrue\u001b[39;00m) \u001b[38;5;241m+\u001b[39m \u001b[38;5;241m1e-08\u001b[39m\n\u001b[0;32m---> 76\u001b[0m \u001b[38;5;28;01mreturn\u001b[39;00m cast(Floats2d, \u001b[43mops\u001b[49m\u001b[38;5;241;43m.\u001b[39;49m\u001b[43masarray_f\u001b[49m\u001b[43m(\u001b[49m\u001b[43m[\u001b[49m\u001b[43mX\u001b[49m\u001b[38;5;241;43m.\u001b[39;49m\u001b[43mshape\u001b[49m\u001b[43m[\u001b[49m\u001b[38;5;241;43m1\u001b[39;49m\u001b[43m]\u001b[49m\u001b[43m]\u001b[49m\u001b[43m)\u001b[49m), mu, var\n",
      "File \u001b[0;32m/opt/anaconda3/envs/nlp-25/lib/python3.10/site-packages/thinc/backends/ops.py:705\u001b[0m, in \u001b[0;36mOps.asarray_f\u001b[0;34m(self, data, dtype)\u001b[0m\n\u001b[1;32m    699\u001b[0m \u001b[38;5;28;01mdef\u001b[39;00m \u001b[38;5;21masarray_f\u001b[39m(\n\u001b[1;32m    700\u001b[0m     \u001b[38;5;28mself\u001b[39m,\n\u001b[1;32m    701\u001b[0m     data: Union[FloatsXd, Sequence[Any]],\n\u001b[1;32m    702\u001b[0m     \u001b[38;5;241m*\u001b[39m,\n\u001b[1;32m    703\u001b[0m     dtype: Optional[DTypes] \u001b[38;5;241m=\u001b[39m \u001b[38;5;124m\"\u001b[39m\u001b[38;5;124mfloat32\u001b[39m\u001b[38;5;124m\"\u001b[39m,\n\u001b[1;32m    704\u001b[0m ) \u001b[38;5;241m-\u001b[39m\u001b[38;5;241m>\u001b[39m FloatsXd:\n\u001b[0;32m--> 705\u001b[0m     \u001b[38;5;28;01mreturn\u001b[39;00m cast(FloatsXd, \u001b[38;5;28;43mself\u001b[39;49m\u001b[38;5;241;43m.\u001b[39;49m\u001b[43masarray\u001b[49m\u001b[43m(\u001b[49m\u001b[43mdata\u001b[49m\u001b[43m,\u001b[49m\u001b[43m \u001b[49m\u001b[43mdtype\u001b[49m\u001b[38;5;241;43m=\u001b[39;49m\u001b[43mdtype\u001b[49m\u001b[43m)\u001b[49m)\n",
      "File \u001b[0;32m/opt/anaconda3/envs/nlp-25/lib/python3.10/site-packages/thinc/backends/numpy_ops.pyx:74\u001b[0m, in \u001b[0;36mthinc.backends.numpy_ops.NumpyOps.asarray\u001b[0;34m()\u001b[0m\n",
      "\u001b[0;31mKeyboardInterrupt\u001b[0m: "
     ]
    }
   ],
   "source": [
    "# copy all raw text into one text\n",
    "raw_text_toknenized = 'datasets/convokit/convokit-all-raw-text-tokenized.txt'\n",
    "raw_text_vocab_tokenized = 'datasets/convokit/convokit-all-raw-vocab.txt'\n",
    "vocab = defaultdict(int)\n",
    "with open(raw_text_toknenized, 'w') as raw_text_f:\n",
    "    texts = raw_text_f.readlines()\n",
    "    docs = nlp.tokenizer.pipe(texts)\n",
    "    with open(raw_text_file, 'r') as infile:\n",
    "        for line in tqdm(infile):\n",
    "            tokens = clean_text(line)\n",
    "            for item in tokens:\n",
    "                vocab[item] += 1\n",
    "            raw_text_f.write(\" \".join(tokens) + '\\n')\n",
    "sorted_vocab = sorted(vocab.items(), key=lambda item: item[1], reverse=True)\n",
    "with open(raw_text_vocab_tokenized, \"w\") as vocab_file:\n",
    "    for word,count in sorted_vocab:\n",
    "        json.dump({word:count}, vocab_file)\n",
    "        vocab_file.write('\\n')"
   ]
  },
  {
   "cell_type": "code",
   "execution_count": 30,
   "id": "19021154-4eb7-4d40-a4a6-194fcb03e1fa",
   "metadata": {},
   "outputs": [],
   "source": [
    "less_freq_vocab = {_:'UNK' for _ in sorted_vocab if _[1] <=5 }"
   ]
  },
  {
   "cell_type": "code",
   "execution_count": null,
   "id": "409a134a-df9b-4136-9e6d-5fa2cbf39b8b",
   "metadata": {},
   "outputs": [],
   "source": [
    "print(len(sorted_vocab) - len([_ for _ in sorted_vocab if _[1] <= 5]))"
   ]
  }
 ],
 "metadata": {
  "kernelspec": {
   "display_name": "nlp-25",
   "language": "python",
   "name": "python3"
  },
  "language_info": {
   "codemirror_mode": {
    "name": "ipython",
    "version": 3
   },
   "file_extension": ".py",
   "mimetype": "text/x-python",
   "name": "python",
   "nbconvert_exporter": "python",
   "pygments_lexer": "ipython3",
   "version": "3.10.16"
  }
 },
 "nbformat": 4,
 "nbformat_minor": 5
}
