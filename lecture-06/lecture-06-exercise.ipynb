{
 "cells": [
  {
   "cell_type": "markdown",
   "id": "31cff98f-cfc0-461b-8bef-f6fb0a7e14d8",
   "metadata": {},
   "source": [
    "The following example code is adopted from: [https://gist.github.com/blumonkey/007955ec2f67119e0909](https://gist.github.com/blumonkey/007955ec2f67119e0909)"
   ]
  },
  {
   "cell_type": "code",
   "execution_count": null,
   "id": "4755dd4a-3c10-4d71-82f8-88eb18fe8141",
   "metadata": {},
   "outputs": [],
   "source": [
    "# Import the toolkit and tags\n",
    "import nltk\n",
    "from nltk.corpus import treebank\n",
    "# Import HMM module\n",
    "from nltk.tag import hmm"
   ]
  },
  {
   "cell_type": "markdown",
   "id": "fd23b34d-3a81-446f-8b5d-f95032a24c08",
   "metadata": {},
   "source": [
    "### Train data - pretagged"
   ]
  },
  {
   "cell_type": "code",
   "execution_count": null,
   "id": "12368bfa-d515-404a-8236-e90fb0e6f611",
   "metadata": {},
   "outputs": [],
   "source": [
    "train_data = treebank.tagged_sents()[:3000]\n",
    "# First sentence\n",
    "print(' '.join([item[0] for item in train_data[0]]))\n",
    "for item in train_data[0]:\n",
    "    print(f\"s1 token [{item[0]}] is tagged into [{item[1]}]\")\n",
    "print('---')\n",
    "print(' '.join([item[0] for item in train_data[1]]))\n",
    "# Second sentence\n",
    "for item in train_data[1]:\n",
    "    print(f\"s2 token [{item[0]}] is tagged into [{item[1]}]\")"
   ]
  },
  {
   "cell_type": "markdown",
   "id": "ba8f6290-c4b2-4762-be5a-ab474438fb7a",
   "metadata": {},
   "source": [
    "### Training process"
   ]
  },
  {
   "cell_type": "code",
   "execution_count": null,
   "id": "c15162bf-d3a4-45c4-b510-9731f4d4b237",
   "metadata": {},
   "outputs": [],
   "source": [
    "trainer = hmm.HiddenMarkovModelTrainer()\n",
    "tagger = nltk.HiddenMarkovModelTagger.train(train_data) \n",
    "print(tagger)"
   ]
  },
  {
   "cell_type": "markdown",
   "id": "2736f90b-7c40-4668-9f0c-7396750a5e20",
   "metadata": {},
   "source": [
    "### Evaluating the trained tagger"
   ]
  },
  {
   "cell_type": "code",
   "execution_count": null,
   "id": "b87b27e7-0fa2-4fbc-8689-214c592eb948",
   "metadata": {},
   "outputs": [],
   "source": [
    "print(len(treebank.tagged_sents()))\n",
    "test_data = treebank.tagged_sents()[3000:]\n",
    "print(f\"test tagging accuracy: {tagger.accuracy(test_data)}\")\n",
    "\n",
    "# Prints the basic data about the tagger\n",
    "print(tagger.tag(\"Today is a good day .\".split()))\n",
    "print(tagger.tag(\"Joe met Joanne in Delhi .\".split()))\n",
    "print(tagger.tag(\"Chicago is the birthplace of Ginny\".split()))"
   ]
  }
 ],
 "metadata": {
  "kernelspec": {
   "display_name": "Python 3 (ipykernel)",
   "language": "python",
   "name": "python3"
  },
  "language_info": {
   "codemirror_mode": {
    "name": "ipython",
    "version": 3
   },
   "file_extension": ".py",
   "mimetype": "text/x-python",
   "name": "python",
   "nbconvert_exporter": "python",
   "pygments_lexer": "ipython3",
   "version": "3.10.13"
  }
 },
 "nbformat": 4,
 "nbformat_minor": 5
}
